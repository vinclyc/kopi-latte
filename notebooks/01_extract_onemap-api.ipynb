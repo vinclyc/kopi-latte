{
 "cells": [
  {
   "cell_type": "markdown",
   "metadata": {},
   "source": [
    "# One Map API Exploration\n",
    "## Authentication"
   ]
  },
  {
   "cell_type": "markdown",
   "metadata": {},
   "source": [
    "### Load Credentials & Get Access Token"
   ]
  },
  {
   "cell_type": "code",
   "execution_count": 1,
   "metadata": {},
   "outputs": [],
   "source": [
    "import requests\n",
    "import pandas as pd\n",
    "import json\n",
    "from dotenv import load_dotenv\n",
    "\n",
    "# Load onemap credentials from .env file in root folder\n",
    "load_dotenv()\n",
    "onemap_email = os.getenv(\"ONEMAP_ACCOUNT_EMAIL\")\n",
    "onemap_password = os.getenv(\"ONEMAP_ACCOUNT_PASSWORD\")\n",
    "\n",
    "# Get auth token with POST request\n",
    "response = requests.post(\n",
    "    \"https://developers.onemap.sg/privateapi/auth/post/getToken\",\n",
    "    data={\"email\": onemap_email, \"password\": onemap_password},\n",
    ")\n",
    "\n",
    "access_token = response.json().get(\"access_token\")"
   ]
  },
  {
   "cell_type": "markdown",
   "metadata": {},
   "source": [
    "## Request Planning Areas"
   ]
  },
  {
   "cell_type": "code",
   "execution_count": 2,
   "metadata": {},
   "outputs": [],
   "source": [
    "# URA planning year for planning area request\n",
    "planning_year = '2014'\n",
    "# Define payload and send GET request to Onemap for planning areas\n",
    "payload = {'token': access_token, 'year': planning_year}\n",
    "response = requests.get('https://developers.onemap.sg/privateapi/popapi/getAllPlanningarea', params=payload)"
   ]
  },
  {
   "cell_type": "code",
   "execution_count": 3,
   "metadata": {},
   "outputs": [],
   "source": [
    "# Parse json response and normalise into a df\n",
    "df = pd.json_normalize(response.json()).fillna('{}')\n",
    "\n",
    "# 'geojson' df column is nested. Apply json.loads to the column to convert type from object to string\n",
    "geojson = pd.DataFrame(df['geojson'].apply(json.loads).values.tolist())\n",
    "\n",
    "# Join unnested geojson columns back to original df \n",
    "df2 = df.join(geojson).drop(columns={'geojson'})"
   ]
  }
 ],
 "metadata": {
  "kernelspec": {
   "display_name": "Python 3.10.5 (conda)",
   "language": "python",
   "name": "python3"
  },
  "language_info": {
   "codemirror_mode": {
    "name": "ipython",
    "version": 3
   },
   "file_extension": ".py",
   "mimetype": "text/x-python",
   "name": "python",
   "nbconvert_exporter": "python",
   "pygments_lexer": "ipython3",
   "version": "3.10.4"
  },
  "orig_nbformat": 4,
  "vscode": {
   "interpreter": {
    "hash": "924a3f899200a01de9e5c6a73ff718b95aa1c84f4602a14715cfe536bcfa634e"
   }
  }
 },
 "nbformat": 4,
 "nbformat_minor": 2
}
