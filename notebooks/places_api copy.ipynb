{
 "cells": [
  {
   "cell_type": "markdown",
   "metadata": {},
   "source": [
    "## Google Places API \n"
   ]
  },
  {
   "cell_type": "markdown",
   "metadata": {},
   "source": [
    "### Setup & Auth"
   ]
  },
  {
   "cell_type": "code",
   "execution_count": 3,
   "metadata": {},
   "outputs": [],
   "source": [
    "import googlemaps\n",
    "import pandas as pd\n",
    "from dotenv import load_dotenv\n",
    "\n",
    "load_dotenv()\n",
    "places_api_key = os.getenv(\"PLACES_API_KEY\")\n",
    "\n",
    "# Initiate Google Maps API client\n",
    "gmaps = googlemaps.Client(key=places_api_key)\n"
   ]
  },
  {
   "cell_type": "markdown",
   "metadata": {},
   "source": [
    "### Pull data from Places API"
   ]
  },
  {
   "cell_type": "code",
   "execution_count": 6,
   "metadata": {},
   "outputs": [],
   "source": [
    "# Search for places using query \n",
    "response = gmaps.places(query='cafe in bishan')\n",
    "\n",
    "# \n",
    "results_json = response.get('results')\n",
    "df = pd.json_normalize(results_json)"
   ]
  },
  {
   "cell_type": "code",
   "execution_count": 8,
   "metadata": {},
   "outputs": [
    {
     "data": {
      "text/plain": [
       "business_status                     object\n",
       "formatted_address                   object\n",
       "icon                                object\n",
       "icon_background_color               object\n",
       "icon_mask_base_uri                  object\n",
       "name                                object\n",
       "photos                              object\n",
       "place_id                            object\n",
       "price_level                        float64\n",
       "rating                             float64\n",
       "reference                           object\n",
       "types                               object\n",
       "user_ratings_total                   int64\n",
       "geometry.location.lat              float64\n",
       "geometry.location.lng              float64\n",
       "geometry.viewport.northeast.lat    float64\n",
       "geometry.viewport.northeast.lng    float64\n",
       "geometry.viewport.southwest.lat    float64\n",
       "geometry.viewport.southwest.lng    float64\n",
       "opening_hours.open_now                bool\n",
       "plus_code.compound_code             object\n",
       "plus_code.global_code               object\n",
       "dtype: object"
      ]
     },
     "execution_count": 8,
     "metadata": {},
     "output_type": "execute_result"
    }
   ],
   "source": [
    "df.dtypes"
   ]
  },
  {
   "cell_type": "code",
   "execution_count": null,
   "metadata": {},
   "outputs": [],
   "source": []
  }
 ],
 "metadata": {
  "kernelspec": {
   "display_name": "Python 3.10.4 64-bit",
   "language": "python",
   "name": "python3"
  },
  "language_info": {
   "codemirror_mode": {
    "name": "ipython",
    "version": 3
   },
   "file_extension": ".py",
   "mimetype": "text/x-python",
   "name": "python",
   "nbconvert_exporter": "python",
   "pygments_lexer": "ipython3",
   "version": "3.10.4"
  },
  "orig_nbformat": 4,
  "vscode": {
   "interpreter": {
    "hash": "924a3f899200a01de9e5c6a73ff718b95aa1c84f4602a14715cfe536bcfa634e"
   }
  }
 },
 "nbformat": 4,
 "nbformat_minor": 2
}
