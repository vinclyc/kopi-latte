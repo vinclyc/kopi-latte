{
 "cells": [
  {
   "cell_type": "markdown",
   "metadata": {},
   "source": [
    "# The Kopi Latte Ratio Project: Data Collection"
   ]
  },
  {
   "cell_type": "markdown",
   "metadata": {},
   "source": [
    "The objective of this notebook is to collect location & reviews data of coffee shops and kopitiams across Singapore by querying the Google Maps Places API."
   ]
  },
  {
   "cell_type": "markdown",
   "metadata": {},
   "source": [
    "## Get details of planning areas in Singapore using OneMap API"
   ]
  },
  {
   "cell_type": "markdown",
   "metadata": {},
   "source": [
    "The Urban Redevelopment Authority (URA) has delineated a total of 55 planning areas in Singapore, which can be used in the Google Maps queries. Here, I am using the OneMap API to pull the names and geographic data of the planning areas to use in the analysis."
   ]
  },
  {
   "cell_type": "markdown",
   "metadata": {},
   "source": [
    "### Load Credentials & Get OneMap Access Token"
   ]
  },
  {
   "cell_type": "code",
   "execution_count": 1,
   "metadata": {},
   "outputs": [],
   "source": [
    "import requests\n",
    "from dotenv import load_dotenv\n",
    "import os\n",
    "\n",
    "# Load onemap credentials from .env file in root folder\n",
    "load_dotenv()\n",
    "onemap_email = os.getenv(\"ONEMAP_ACCOUNT_EMAIL\")\n",
    "onemap_password = os.getenv(\"ONEMAP_ACCOUNT_PASSWORD\")\n",
    "\n",
    "# Get auth token with POST request      \n",
    "url = \"https://www.onemap.gov.sg/api/auth/post/getToken\"\n",
    "      \n",
    "payload = {\n",
    "        \"email\":onemap_email,\n",
    "        \"password\": onemap_password\n",
    "      }\n",
    "      \n",
    "response = requests.request(\"POST\", url, json=payload)\n",
    "      \n",
    "access_token = response.json().get('access_token')"
   ]
  },
  {
   "cell_type": "markdown",
   "metadata": {},
   "source": [
    "### Request List of Planning Areas and GeoJSON Polygons"
   ]
  },
  {
   "cell_type": "code",
   "execution_count": 2,
   "metadata": {},
   "outputs": [
    {
     "data": {
      "text/html": [
       "<div>\n",
       "<style scoped>\n",
       "    .dataframe tbody tr th:only-of-type {\n",
       "        vertical-align: middle;\n",
       "    }\n",
       "\n",
       "    .dataframe tbody tr th {\n",
       "        vertical-align: top;\n",
       "    }\n",
       "\n",
       "    .dataframe thead th {\n",
       "        text-align: right;\n",
       "    }\n",
       "</style>\n",
       "<table border=\"1\" class=\"dataframe\">\n",
       "  <thead>\n",
       "    <tr style=\"text-align: right;\">\n",
       "      <th></th>\n",
       "      <th>pln_area_n</th>\n",
       "      <th>geojson</th>\n",
       "    </tr>\n",
       "  </thead>\n",
       "  <tbody>\n",
       "    <tr>\n",
       "      <th>0</th>\n",
       "      <td>BEDOK</td>\n",
       "      <td>{\"type\":\"MultiPolygon\",\"coordinates\":[[[[103.9...</td>\n",
       "    </tr>\n",
       "    <tr>\n",
       "      <th>1</th>\n",
       "      <td>BUKIT TIMAH</td>\n",
       "      <td>{\"type\":\"MultiPolygon\",\"coordinates\":[[[[103.7...</td>\n",
       "    </tr>\n",
       "    <tr>\n",
       "      <th>2</th>\n",
       "      <td>BUKIT BATOK</td>\n",
       "      <td>{\"type\":\"MultiPolygon\",\"coordinates\":[[[[103.7...</td>\n",
       "    </tr>\n",
       "    <tr>\n",
       "      <th>3</th>\n",
       "      <td>BUKIT MERAH</td>\n",
       "      <td>{\"type\":\"MultiPolygon\",\"coordinates\":[[[[103.8...</td>\n",
       "    </tr>\n",
       "    <tr>\n",
       "      <th>4</th>\n",
       "      <td>CENTRAL WATER CATCHMENT</td>\n",
       "      <td>{\"type\":\"MultiPolygon\",\"coordinates\":[[[[103.8...</td>\n",
       "    </tr>\n",
       "  </tbody>\n",
       "</table>\n",
       "</div>"
      ],
      "text/plain": [
       "                pln_area_n                                            geojson\n",
       "0                    BEDOK  {\"type\":\"MultiPolygon\",\"coordinates\":[[[[103.9...\n",
       "1              BUKIT TIMAH  {\"type\":\"MultiPolygon\",\"coordinates\":[[[[103.7...\n",
       "2              BUKIT BATOK  {\"type\":\"MultiPolygon\",\"coordinates\":[[[[103.7...\n",
       "3              BUKIT MERAH  {\"type\":\"MultiPolygon\",\"coordinates\":[[[[103.8...\n",
       "4  CENTRAL WATER CATCHMENT  {\"type\":\"MultiPolygon\",\"coordinates\":[[[[103.8..."
      ]
     },
     "execution_count": 2,
     "metadata": {},
     "output_type": "execute_result"
    }
   ],
   "source": [
    "import pandas as pd\n",
    "import json\n",
    "\n",
    "\n",
    "url = \"https://www.onemap.gov.sg/api/public/popapi/getAllPlanningarea?year=2019\"\n",
    "      \n",
    "headers = {\"Authorization\": access_token}\n",
    "      \n",
    "response = requests.request(\"GET\", url, headers=headers)\n",
    "\n",
    "# The response is a list of planning area names and their respective geojson polygons. Parse the response and save as a pandas DataFrame\n",
    "planning_areas = pd.DataFrame(response.json()['SearchResults'])\n",
    "planning_areas.head()"
   ]
  },
  {
   "cell_type": "markdown",
   "metadata": {},
   "source": [
    "## Query Google Maps Places API for Location & Review Data"
   ]
  },
  {
   "cell_type": "markdown",
   "metadata": {},
   "source": [
    "With the list of planning areas, the next step is to prepare the queries to request from the Google Maps API. My approach is to concatenate the location type (eg 'cafe') with each planning area (eg 'BUKIT TIMAH'). This will give us a comprehensive list of queries (eg 'cafe in BUKIT TIMAH') to extract the location data"
   ]
  },
  {
   "cell_type": "markdown",
   "metadata": {},
   "source": [
    "### Prepare location queries for Google Maps Places API"
   ]
  },
  {
   "cell_type": "code",
   "execution_count": 3,
   "metadata": {},
   "outputs": [],
   "source": [
    "def prepare_queries(queries, locations):\n",
    "    \"\"\"\n",
    "    Prepare a list of queries for Place Search \n",
    "\n",
    "    Parameters:\n",
    "        queries (list): A list of queries to search for. Eg [\"coffee\", \"coffee shops\", \"kopi\"]\n",
    "        locations (list): A list of locations to search in for each query in query_list. Eg [\"bishan\", \"orchard\", \"ang mo kio\"]\n",
    "\n",
    "    Returns: A list of queries after concatenating queries and locations. Eg 'coffee in bishan'\n",
    "    \"\"\"\n",
    "\n",
    "    return [i + \" in \" + j for i in query_list for j in location_list]"
   ]
  },
  {
   "cell_type": "code",
   "execution_count": 4,
   "metadata": {},
   "outputs": [
    {
     "data": {
      "text/plain": [
       "['coffee in BEDOK',\n",
       " 'coffee in BUKIT TIMAH',\n",
       " 'latte in SUNGEI KADUT',\n",
       " 'latte in YISHUN']"
      ]
     },
     "execution_count": 4,
     "metadata": {},
     "output_type": "execute_result"
    }
   ],
   "source": [
    "query_list = ['coffee', 'coffee shop', 'kopi', 'kopitiam', 'cafe', 'latte']\n",
    "location_list = planning_areas['pln_area_n']\n",
    "\n",
    "queries = prepare_queries(query_list, location_list)\n",
    "queries[0:2] + queries[-2:]"
   ]
  },
  {
   "cell_type": "markdown",
   "metadata": {},
   "source": [
    "### Query location data from Google Maps Places API"
   ]
  },
  {
   "cell_type": "markdown",
   "metadata": {},
   "source": [
    "Each place search query returns a maximum of 60 results per query with the responses paginated with 20 results per response. Hence, I defined a function to return all 60 results in a query."
   ]
  },
  {
   "cell_type": "code",
   "execution_count": 8,
   "metadata": {},
   "outputs": [],
   "source": [
    "import time \n",
    "\n",
    "def get_all_query_results(query, gmaps_client):\n",
    "    \"\"\"\n",
    "    Get maximum number of results (60) for each Google Place API Text Search query\n",
    "    \"\"\"\n",
    "    results = []\n",
    "\n",
    "    # Search for places using query and save value of next_page_token\n",
    "    print(\"Requesting results for\", query)\n",
    "    response = gmaps_client.places(query=query)\n",
    "    results.extend(response.get('results'))\n",
    "\n",
    "    next_page_token = response.get(\"next_page_token\")\n",
    "\n",
    "    while next_page_token is not None:\n",
    "        time.sleep(2)\n",
    "        response = gmaps_client.places(page_token=next_page_token)\n",
    "        results.extend(response.get(\"results\"))\n",
    "        next_page_token = response.get(\"next_page_token\")\n",
    "    else:\n",
    "        print(\"next_page_token not found. Returning list of jsons for\", query)\n",
    "\n",
    "    return results\n"
   ]
  },
  {
   "cell_type": "code",
   "execution_count": 9,
   "metadata": {},
   "outputs": [
    {
     "name": "stdout",
     "output_type": "stream",
     "text": [
      "coffee in BEDOK\n",
      "coffee in BUKIT TIMAH\n",
      "coffee in BUKIT BATOK\n",
      "coffee in BUKIT MERAH\n",
      "coffee in CENTRAL WATER CATCHMENT\n"
     ]
    }
   ],
   "source": [
    "for query in queries[0:5]:\n",
    "    print(query)"
   ]
  },
  {
   "cell_type": "code",
   "execution_count": 10,
   "metadata": {},
   "outputs": [
    {
     "name": "stdout",
     "output_type": "stream",
     "text": [
      "Requesting results for coffee in BEDOK\n",
      "next_page_token not found. Returning list of jsons for coffee in BEDOK\n",
      "Requesting results for coffee in BUKIT TIMAH\n",
      "next_page_token not found. Returning list of jsons for coffee in BUKIT TIMAH\n"
     ]
    }
   ],
   "source": [
    "import googlemaps\n",
    "\n",
    "load_dotenv()\n",
    "places_api_key = os.getenv(\"PLACES_API_KEY\")\n",
    "\n",
    "# Initiate Google Maps API client\n",
    "gmaps = googlemaps.Client(key=places_api_key)\n",
    "\n",
    "# loop through queries and add to results list\n",
    "results = []\n",
    "for query in queries[0:2]:\n",
    "    results.extend(get_all_query_results(query, gmaps))"
   ]
  },
  {
   "cell_type": "code",
   "execution_count": 20,
   "metadata": {},
   "outputs": [
    {
     "name": "stdout",
     "output_type": "stream",
     "text": [
      "dict_keys(['business_status', 'formatted_address', 'geometry', 'icon', 'icon_background_color', 'icon_mask_base_uri', 'name', 'opening_hours', 'photos', 'place_id', 'plus_code', 'price_level', 'rating', 'reference', 'types', 'user_ratings_total'])\n"
     ]
    }
   ],
   "source": [
    "# show available fields for each result\n",
    "print(results[0].keys())"
   ]
  },
  {
   "cell_type": "code",
   "execution_count": 66,
   "metadata": {},
   "outputs": [
    {
     "data": {
      "text/html": [
       "<div>\n",
       "<style scoped>\n",
       "    .dataframe tbody tr th:only-of-type {\n",
       "        vertical-align: middle;\n",
       "    }\n",
       "\n",
       "    .dataframe tbody tr th {\n",
       "        vertical-align: top;\n",
       "    }\n",
       "\n",
       "    .dataframe thead th {\n",
       "        text-align: right;\n",
       "    }\n",
       "</style>\n",
       "<table border=\"1\" class=\"dataframe\">\n",
       "  <thead>\n",
       "    <tr style=\"text-align: right;\">\n",
       "      <th></th>\n",
       "      <th>name</th>\n",
       "      <th>place_id</th>\n",
       "      <th>formatted_address</th>\n",
       "      <th>user_ratings_total</th>\n",
       "    </tr>\n",
       "  </thead>\n",
       "  <tbody>\n",
       "    <tr>\n",
       "      <th>0</th>\n",
       "      <td>Percolate</td>\n",
       "      <td>ChIJV6HD-Eo92jERjhfY7NEDrOM</td>\n",
       "      <td>136 Bedok North Ave 3, #01-152, Singapore 460136</td>\n",
       "      <td>1007</td>\n",
       "    </tr>\n",
       "    <tr>\n",
       "      <th>1</th>\n",
       "      <td>Generation Coffee Roasters (Bedok)</td>\n",
       "      <td>ChIJhbwWY-I92jERxtB-gF22sL0</td>\n",
       "      <td>216 Bedok North Street 1, #01-32, Singapore 46...</td>\n",
       "      <td>200</td>\n",
       "    </tr>\n",
       "    <tr>\n",
       "      <th>2</th>\n",
       "      <td>Refuel Cafe</td>\n",
       "      <td>ChIJcf_SpPk82jERM28p3SYNBnI</td>\n",
       "      <td>744 Bedok Reservoir Rd, #01-3029 Reservoir Vil...</td>\n",
       "      <td>1146</td>\n",
       "    </tr>\n",
       "    <tr>\n",
       "      <th>3</th>\n",
       "      <td>Dutch Colony Coffee Co.</td>\n",
       "      <td>ChIJF2GIiKYi2jERAGbOklC40B8</td>\n",
       "      <td>113 Frankel Ave, Singapore 458230</td>\n",
       "      <td>1251</td>\n",
       "    </tr>\n",
       "    <tr>\n",
       "      <th>4</th>\n",
       "      <td>Marie's Lapis Cafe</td>\n",
       "      <td>ChIJ3Vc6OY092jERhObI1bZ_4Sk</td>\n",
       "      <td>537 Bedok North Street 3, #01-575, Singapore 4...</td>\n",
       "      <td>379</td>\n",
       "    </tr>\n",
       "  </tbody>\n",
       "</table>\n",
       "</div>"
      ],
      "text/plain": [
       "                                 name                     place_id  \\\n",
       "0                           Percolate  ChIJV6HD-Eo92jERjhfY7NEDrOM   \n",
       "1  Generation Coffee Roasters (Bedok)  ChIJhbwWY-I92jERxtB-gF22sL0   \n",
       "2                         Refuel Cafe  ChIJcf_SpPk82jERM28p3SYNBnI   \n",
       "3             Dutch Colony Coffee Co.  ChIJF2GIiKYi2jERAGbOklC40B8   \n",
       "4                  Marie's Lapis Cafe  ChIJ3Vc6OY092jERhObI1bZ_4Sk   \n",
       "\n",
       "                                   formatted_address  user_ratings_total  \n",
       "0   136 Bedok North Ave 3, #01-152, Singapore 460136                1007  \n",
       "1  216 Bedok North Street 1, #01-32, Singapore 46...                 200  \n",
       "2  744 Bedok Reservoir Rd, #01-3029 Reservoir Vil...                1146  \n",
       "3                  113 Frankel Ave, Singapore 458230                1251  \n",
       "4  537 Bedok North Street 3, #01-575, Singapore 4...                 379  "
      ]
     },
     "execution_count": 66,
     "metadata": {},
     "output_type": "execute_result"
    }
   ],
   "source": [
    "# There may be duplicate places across queries. Save response as pandas df and remove duplicates\n",
    "places_df = pd.json_normalize(results).drop_duplicates(['place_id'])[[ 'name', 'place_id', 'formatted_address', 'user_ratings_total']]\n",
    "places_df.head()"
   ]
  },
  {
   "cell_type": "markdown",
   "metadata": {},
   "source": [
    "# Get reviews for places"
   ]
  },
  {
   "cell_type": "code",
   "execution_count": 67,
   "metadata": {},
   "outputs": [
    {
     "data": {
      "text/plain": [
       "dict_keys(['address_components', 'adr_address', 'business_status', 'curbside_pickup', 'current_opening_hours', 'delivery', 'dine_in', 'editorial_summary', 'formatted_address', 'formatted_phone_number', 'geometry', 'icon', 'icon_background_color', 'icon_mask_base_uri', 'international_phone_number', 'name', 'opening_hours', 'photos', 'place_id', 'plus_code', 'price_level', 'rating', 'reference', 'reservable', 'reviews', 'serves_beer', 'serves_breakfast', 'serves_brunch', 'serves_dinner', 'serves_lunch', 'takeout', 'types', 'url', 'user_ratings_total', 'utc_offset', 'vicinity', 'website', 'wheelchair_accessible_entrance'])"
      ]
     },
     "execution_count": 67,
     "metadata": {},
     "output_type": "execute_result"
    }
   ],
   "source": [
    "# Get a deduplicated list of place IDs for all places with at least one review in df\n",
    "review_place_ids = places_df.loc[places_df[\"user_ratings_total\"] > 0, \"place_id\"].drop_duplicates().tolist()\n",
    "\n",
    "\n",
    "# Request for reviews in review_place_ids\n",
    "reviews = []\n",
    "for place_id in review_place_ids:\n",
    "    response = gmaps.place(place_id)\n",
    "    reviews.append(response)\n",
    "\n",
    "# show available fields for each response\n",
    "reviews[0]['result'].keys()"
   ]
  },
  {
   "cell_type": "code",
   "execution_count": 68,
   "metadata": {},
   "outputs": [
    {
     "data": {
      "text/html": [
       "<div>\n",
       "<style scoped>\n",
       "    .dataframe tbody tr th:only-of-type {\n",
       "        vertical-align: middle;\n",
       "    }\n",
       "\n",
       "    .dataframe tbody tr th {\n",
       "        vertical-align: top;\n",
       "    }\n",
       "\n",
       "    .dataframe thead th {\n",
       "        text-align: right;\n",
       "    }\n",
       "</style>\n",
       "<table border=\"1\" class=\"dataframe\">\n",
       "  <thead>\n",
       "    <tr style=\"text-align: right;\">\n",
       "      <th></th>\n",
       "      <th>place_id</th>\n",
       "      <th>text</th>\n",
       "    </tr>\n",
       "  </thead>\n",
       "  <tbody>\n",
       "    <tr>\n",
       "      <th>0</th>\n",
       "      <td>ChIJV6HD-Eo92jERjhfY7NEDrOM</td>\n",
       "      <td>Nice chill cafe in the heartlands. I like the ...</td>\n",
       "    </tr>\n",
       "    <tr>\n",
       "      <th>1</th>\n",
       "      <td>ChIJV6HD-Eo92jERjhfY7NEDrOM</td>\n",
       "      <td>THE BANANA LOAF is a showstopper. I was initia...</td>\n",
       "    </tr>\n",
       "    <tr>\n",
       "      <th>2</th>\n",
       "      <td>ChIJV6HD-Eo92jERjhfY7NEDrOM</td>\n",
       "      <td>It’s great to find a cafe that serves good cof...</td>\n",
       "    </tr>\n",
       "    <tr>\n",
       "      <th>3</th>\n",
       "      <td>ChIJV6HD-Eo92jERjhfY7NEDrOM</td>\n",
       "      <td>Nice little independent cafe in Bedok. Quite a...</td>\n",
       "    </tr>\n",
       "    <tr>\n",
       "      <th>4</th>\n",
       "      <td>ChIJV6HD-Eo92jERjhfY7NEDrOM</td>\n",
       "      <td>Met my friends for coffee at Percolate. Menu l...</td>\n",
       "    </tr>\n",
       "  </tbody>\n",
       "</table>\n",
       "</div>"
      ],
      "text/plain": [
       "                      place_id  \\\n",
       "0  ChIJV6HD-Eo92jERjhfY7NEDrOM   \n",
       "1  ChIJV6HD-Eo92jERjhfY7NEDrOM   \n",
       "2  ChIJV6HD-Eo92jERjhfY7NEDrOM   \n",
       "3  ChIJV6HD-Eo92jERjhfY7NEDrOM   \n",
       "4  ChIJV6HD-Eo92jERjhfY7NEDrOM   \n",
       "\n",
       "                                                text  \n",
       "0  Nice chill cafe in the heartlands. I like the ...  \n",
       "1  THE BANANA LOAF is a showstopper. I was initia...  \n",
       "2  It’s great to find a cafe that serves good cof...  \n",
       "3  Nice little independent cafe in Bedok. Quite a...  \n",
       "4  Met my friends for coffee at Percolate. Menu l...  "
      ]
     },
     "execution_count": 68,
     "metadata": {},
     "output_type": "execute_result"
    }
   ],
   "source": [
    "# normalise each response into a dataframe with each review text as one row and assign 'place_id' column\n",
    "reviews_normalized = [pd.json_normalize(place['result'], 'reviews').assign(place_id=place['result']['place_id']) for place in reviews]\n",
    "reviews_df = pd.concat(reviews_normalized)[['place_id', 'text']]\n",
    "reviews_df.head()"
   ]
  }
 ],
 "metadata": {
  "kernelspec": {
   "display_name": "Python 3.10.5 (conda)",
   "language": "python",
   "name": "python3"
  },
  "language_info": {
   "codemirror_mode": {
    "name": "ipython",
    "version": 3
   },
   "file_extension": ".py",
   "mimetype": "text/x-python",
   "name": "python",
   "nbconvert_exporter": "python",
   "pygments_lexer": "ipython3",
   "version": "3.12.3"
  },
  "orig_nbformat": 4,
  "vscode": {
   "interpreter": {
    "hash": "924a3f899200a01de9e5c6a73ff718b95aa1c84f4602a14715cfe536bcfa634e"
   }
  }
 },
 "nbformat": 4,
 "nbformat_minor": 2
}
