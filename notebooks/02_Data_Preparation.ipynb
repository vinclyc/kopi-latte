{
 "cells": [
  {
   "cell_type": "markdown",
   "metadata": {},
   "source": [
    "# The Kopi Latte Ratio Project: Data Preparation"
   ]
  },
  {
   "cell_type": "markdown",
   "metadata": {},
   "source": [
    "The objective of this notebook is to clean up the location & reviews data collected from Google Maps, and prepare a dataset that can be used to train a review text classification model."
   ]
  },
  {
   "cell_type": "markdown",
   "metadata": {},
   "source": [
    "## Load Extracted Data"
   ]
  },
  {
   "cell_type": "code",
   "execution_count": 1,
   "metadata": {},
   "outputs": [],
   "source": [
    "import os\n",
    "os.chdir('..')"
   ]
  },
  {
   "cell_type": "code",
   "execution_count": 28,
   "metadata": {},
   "outputs": [
    {
     "data": {
      "text/html": [
       "<div>\n",
       "<style scoped>\n",
       "    .dataframe tbody tr th:only-of-type {\n",
       "        vertical-align: middle;\n",
       "    }\n",
       "\n",
       "    .dataframe tbody tr th {\n",
       "        vertical-align: top;\n",
       "    }\n",
       "\n",
       "    .dataframe thead th {\n",
       "        text-align: right;\n",
       "    }\n",
       "</style>\n",
       "<table border=\"1\" class=\"dataframe\">\n",
       "  <thead>\n",
       "    <tr style=\"text-align: right;\">\n",
       "      <th></th>\n",
       "      <th>name</th>\n",
       "      <th>place_id</th>\n",
       "      <th>formatted_address</th>\n",
       "    </tr>\n",
       "  </thead>\n",
       "  <tbody>\n",
       "    <tr>\n",
       "      <th>0</th>\n",
       "      <td>Percolate</td>\n",
       "      <td>ChIJV6HD-Eo92jERjhfY7NEDrOM</td>\n",
       "      <td>136 Bedok North Ave 3, #01-152, Singapore 460136</td>\n",
       "    </tr>\n",
       "    <tr>\n",
       "      <th>1</th>\n",
       "      <td>Generation Coffee Roasters (Bedok)</td>\n",
       "      <td>ChIJhbwWY-I92jERxtB-gF22sL0</td>\n",
       "      <td>216 Bedok North Street 1, #01-32, Singapore 46...</td>\n",
       "    </tr>\n",
       "    <tr>\n",
       "      <th>2</th>\n",
       "      <td>Refuel Cafe</td>\n",
       "      <td>ChIJcf_SpPk82jERM28p3SYNBnI</td>\n",
       "      <td>744 Bedok Reservoir Rd, #01-3029 Reservoir Vil...</td>\n",
       "    </tr>\n",
       "    <tr>\n",
       "      <th>3</th>\n",
       "      <td>Marie's Lapis Cafe</td>\n",
       "      <td>ChIJ3Vc6OY092jERhObI1bZ_4Sk</td>\n",
       "      <td>537 Bedok North Street 3, #01-575, Singapore 4...</td>\n",
       "    </tr>\n",
       "    <tr>\n",
       "      <th>4</th>\n",
       "      <td>COFFEESARANG</td>\n",
       "      <td>ChIJOb_8OAwj2jERPK-QVelr5Vk</td>\n",
       "      <td>311 New Upper Changi Rd #01-78 Bedok Mall, Sin...</td>\n",
       "    </tr>\n",
       "  </tbody>\n",
       "</table>\n",
       "</div>"
      ],
      "text/plain": [
       "                                 name                     place_id  \\\n",
       "0                           Percolate  ChIJV6HD-Eo92jERjhfY7NEDrOM   \n",
       "1  Generation Coffee Roasters (Bedok)  ChIJhbwWY-I92jERxtB-gF22sL0   \n",
       "2                         Refuel Cafe  ChIJcf_SpPk82jERM28p3SYNBnI   \n",
       "3                  Marie's Lapis Cafe  ChIJ3Vc6OY092jERhObI1bZ_4Sk   \n",
       "4                        COFFEESARANG  ChIJOb_8OAwj2jERPK-QVelr5Vk   \n",
       "\n",
       "                                   formatted_address  \n",
       "0   136 Bedok North Ave 3, #01-152, Singapore 460136  \n",
       "1  216 Bedok North Street 1, #01-32, Singapore 46...  \n",
       "2  744 Bedok Reservoir Rd, #01-3029 Reservoir Vil...  \n",
       "3  537 Bedok North Street 3, #01-575, Singapore 4...  \n",
       "4  311 New Upper Changi Rd #01-78 Bedok Mall, Sin...  "
      ]
     },
     "execution_count": 28,
     "metadata": {},
     "output_type": "execute_result"
    }
   ],
   "source": [
    "import pandas as pd\n",
    "\n",
    "places_df = pd.read_csv('data/raw/places.csv', index_col=0)[['name', 'place_id', 'formatted_address']]\n",
    "places_df.head()"
   ]
  },
  {
   "cell_type": "markdown",
   "metadata": {},
   "source": [
    "## Data Exploration"
   ]
  },
  {
   "cell_type": "code",
   "execution_count": 29,
   "metadata": {},
   "outputs": [
    {
     "data": {
      "text/plain": [
       "4884"
      ]
     },
     "execution_count": 29,
     "metadata": {},
     "output_type": "execute_result"
    }
   ],
   "source": [
    "places_df['place_id'].nunique()"
   ]
  },
  {
   "cell_type": "markdown",
   "metadata": {},
   "source": [
    "With 4884 relevant locations and 21685 reviews pulled from Google Maps, I came up with a system to efficiently classify the locations as a cafe or kopitiam. There will be 3 layers of classification in order to minimise the manual effort required:\n",
    "1. Heuristic classification - Classify the locations based on popular coffee franchises and keywords in names. This requires the least effort and can classify the greatest number of locations accurately. It will also enable\n",
    "2. Review text classification - Train a model to classify the location based on its reviews. This will automate the classification process.\n",
    "3. Manual human classification - For locations that are still ambiguous, I will manually classify them. This requires the most effort and should be limited to a reasonable number of location"
   ]
  },
  {
   "cell_type": "markdown",
   "metadata": {},
   "source": [
    "## Heuristic Classification"
   ]
  },
  {
   "cell_type": "code",
   "execution_count": 30,
   "metadata": {},
   "outputs": [
    {
     "data": {
      "text/plain": [
       "franchise_name\n",
       "Toast Box                        54\n",
       "The Coffee Bean & Tea Leaf       34\n",
       "Ya Kun Kaya Toast                34\n",
       "luckin coffee                    25\n",
       "Kopitiam                         24\n",
       "Kimly Coffeeshop                 24\n",
       "Fun Toast                        19\n",
       "The Coffee Bean and Tea Leaf     14\n",
       "Tiong Bahru Bakery               14\n",
       "Killiney Kopitiam                14\n",
       "S                                13\n",
       "Huggs Coffee                     12\n",
       "Happy Hawkers                    11\n",
       "Kimly Coffeeshop                 10\n",
       "Kopi & Tarts                     10\n",
       "Baker & Cook                      9\n",
       "Han's Cafe                        8\n",
       "Kopitiam Corner                   8\n",
       "Koufu                             8\n",
       "De Tian Coffee House              8\n",
       "Name: count, dtype: int64"
      ]
     },
     "execution_count": 30,
     "metadata": {},
     "output_type": "execute_result"
    }
   ],
   "source": [
    "# many coffee franchise locations are in the format \"<franchise name> - <location>\"\n",
    "# the franchise store names by splitting \n",
    "franchise_names = places_df['name'].str.split('-',expand=True)[0].str.split('(', expand=True)[0].rename('franchise_name')\n",
    "\n",
    "# get top 20 franchise names\n",
    "franchise_names_top = franchise_names.value_counts().head(20)\n",
    "franchise_names_top"
   ]
  },
  {
   "cell_type": "code",
   "execution_count": 31,
   "metadata": {},
   "outputs": [
    {
     "data": {
      "text/plain": [
       "is_cafe  is_kopitiam\n",
       "0        0              4268\n",
       "         1               418\n",
       "1        0               197\n",
       "         1                 1\n",
       "Name: count, dtype: int64"
      ]
     },
     "execution_count": 31,
     "metadata": {},
     "output_type": "execute_result"
    }
   ],
   "source": [
    "import numpy as np\n",
    "\n",
    "# Define list of cafe & kopi franchises and classify locations accordingly\n",
    "cafe_franchises = ['Starbucks', 'The Coffee Bean & Tea Leaf', 'luckin coffee', 'The Coffee Bean and Tea Leaf', 'Tiong Bahru Bakery', 'Huggs Coffee', 'Baker & Cook']\n",
    "kopi_franchises = ['Ya Kun Kaya Toast', 'Toast Box', 'Kopitiam', 'Kimly Coffeeshop', 'Fun Toast', 'Kopi Kiosk', 'S-11', 'Toast Box', 'Killiney Kopitiam', 'Happy Hawkers', 'Kopi & Tarts', 'De Tian Coffee House'] \n",
    "\n",
    "places_df['is_cafe'] = np.where(places_df['name'].str.contains('|'.join(cafe_franchises), regex=True, case=False), 1,0)\n",
    "places_df['is_kopitiam'] = np.where(places_df['name'].str.contains('|'.join(kopi_franchises), regex=True, case=False), 1,0)\n",
    "places_df[['is_cafe', 'is_kopitiam']].value_counts()"
   ]
  },
  {
   "cell_type": "code",
   "execution_count": 32,
   "metadata": {},
   "outputs": [
    {
     "data": {
      "text/html": [
       "<div>\n",
       "<style scoped>\n",
       "    .dataframe tbody tr th:only-of-type {\n",
       "        vertical-align: middle;\n",
       "    }\n",
       "\n",
       "    .dataframe tbody tr th {\n",
       "        vertical-align: top;\n",
       "    }\n",
       "\n",
       "    .dataframe thead th {\n",
       "        text-align: right;\n",
       "    }\n",
       "</style>\n",
       "<table border=\"1\" class=\"dataframe\">\n",
       "  <thead>\n",
       "    <tr style=\"text-align: right;\">\n",
       "      <th></th>\n",
       "      <th>name</th>\n",
       "      <th>place_id</th>\n",
       "      <th>formatted_address</th>\n",
       "      <th>is_cafe</th>\n",
       "      <th>is_kopitiam</th>\n",
       "    </tr>\n",
       "  </thead>\n",
       "  <tbody>\n",
       "    <tr>\n",
       "      <th>9966</th>\n",
       "      <td>Starbucks Kopitiam City</td>\n",
       "      <td>ChIJ3UHR8T0X2jERdBuJJ2ly4EY</td>\n",
       "      <td>277C Compassvale Link, #01-13 (Shop 2A Kopitia...</td>\n",
       "      <td>1</td>\n",
       "      <td>1</td>\n",
       "    </tr>\n",
       "  </tbody>\n",
       "</table>\n",
       "</div>"
      ],
      "text/plain": [
       "                         name                     place_id  \\\n",
       "9966  Starbucks Kopitiam City  ChIJ3UHR8T0X2jERdBuJJ2ly4EY   \n",
       "\n",
       "                                      formatted_address  is_cafe  is_kopitiam  \n",
       "9966  277C Compassvale Link, #01-13 (Shop 2A Kopitia...        1            1  "
      ]
     },
     "execution_count": 32,
     "metadata": {},
     "output_type": "execute_result"
    }
   ],
   "source": [
    "# check location that was labelled as both kopitiam & cafe\n",
    "places_df.loc[(places_df['is_cafe'] == 1) & (places_df['is_kopitiam'] == 1)]"
   ]
  },
  {
   "cell_type": "code",
   "execution_count": 33,
   "metadata": {},
   "outputs": [
    {
     "data": {
      "text/plain": [
       "is_cafe  is_kopitiam\n",
       "0        0              4268\n",
       "         1               418\n",
       "1        0               198\n",
       "Name: count, dtype: int64"
      ]
     },
     "execution_count": 33,
     "metadata": {},
     "output_type": "execute_result"
    }
   ],
   "source": [
    "places_df.loc[places_df['place_id'] == 'ChIJ3UHR8T0X2jERdBuJJ2ly4EY', 'is_kopitiam'] = 0\n",
    "places_df[['is_cafe', 'is_kopitiam']].value_counts()"
   ]
  },
  {
   "cell_type": "code",
   "execution_count": 34,
   "metadata": {},
   "outputs": [
    {
     "data": {
      "text/plain": [
       "coffee        709\n",
       "cafe          487\n",
       "@             340\n",
       "&             326\n",
       "the           292\n",
       "-             272\n",
       "house         246\n",
       "food          230\n",
       "kopitiam      186\n",
       "shop          149\n",
       "toast         147\n",
       "coffeeshop    141\n",
       "tea           138\n",
       "eating        125\n",
       "kopi           99\n",
       "centre         92\n",
       "mall           87\n",
       "restaurant     84\n",
       "café           84\n",
       "bar            80\n",
       "Name: count, dtype: int64"
      ]
     },
     "execution_count": 34,
     "metadata": {},
     "output_type": "execute_result"
    }
   ],
   "source": [
    "# Get top 50 words in the place names\n",
    "pd.Series(' '.join(places_df['name']).lower().split()).value_counts()[:20]"
   ]
  },
  {
   "cell_type": "code",
   "execution_count": 35,
   "metadata": {},
   "outputs": [
    {
     "data": {
      "text/plain": [
       "is_cafe  is_kopitiam\n",
       "0        0              4144\n",
       "         1               542\n",
       "1        0               197\n",
       "         1                 1\n",
       "Name: count, dtype: int64"
      ]
     },
     "execution_count": 35,
     "metadata": {},
     "output_type": "execute_result"
    }
   ],
   "source": [
    "# Check number of samples for each label\n",
    "kopi_word_list = ['kopitiam', 'toast', 'kopi']\n",
    "places_df.loc[places_df['name'].str.contains('|'.join(kopi_word_list), regex=True, case=False), 'is_kopitiam'] = 1\n",
    "places_df[['is_cafe', 'is_kopitiam']].value_counts()"
   ]
  },
  {
   "cell_type": "markdown",
   "metadata": {},
   "source": [
    "After classifying the locations based on coffee franchises & keywords, we are able to quickly identify about 500 kopitiams and 200 cafes. This also gives us a good base to create a training dataset for our review text classification model."
   ]
  },
  {
   "cell_type": "code",
   "execution_count": 36,
   "metadata": {},
   "outputs": [
    {
     "data": {
      "text/html": [
       "<div>\n",
       "<style scoped>\n",
       "    .dataframe tbody tr th:only-of-type {\n",
       "        vertical-align: middle;\n",
       "    }\n",
       "\n",
       "    .dataframe tbody tr th {\n",
       "        vertical-align: top;\n",
       "    }\n",
       "\n",
       "    .dataframe thead th {\n",
       "        text-align: right;\n",
       "    }\n",
       "</style>\n",
       "<table border=\"1\" class=\"dataframe\">\n",
       "  <thead>\n",
       "    <tr style=\"text-align: right;\">\n",
       "      <th></th>\n",
       "      <th>name</th>\n",
       "      <th>place_id</th>\n",
       "      <th>formatted_address</th>\n",
       "      <th>is_cafe</th>\n",
       "      <th>is_kopitiam</th>\n",
       "    </tr>\n",
       "  </thead>\n",
       "  <tbody>\n",
       "    <tr>\n",
       "      <th>9966</th>\n",
       "      <td>Starbucks Kopitiam City</td>\n",
       "      <td>ChIJ3UHR8T0X2jERdBuJJ2ly4EY</td>\n",
       "      <td>277C Compassvale Link, #01-13 (Shop 2A Kopitia...</td>\n",
       "      <td>1</td>\n",
       "      <td>1</td>\n",
       "    </tr>\n",
       "  </tbody>\n",
       "</table>\n",
       "</div>"
      ],
      "text/plain": [
       "                         name                     place_id  \\\n",
       "9966  Starbucks Kopitiam City  ChIJ3UHR8T0X2jERdBuJJ2ly4EY   \n",
       "\n",
       "                                      formatted_address  is_cafe  is_kopitiam  \n",
       "9966  277C Compassvale Link, #01-13 (Shop 2A Kopitia...        1            1  "
      ]
     },
     "execution_count": 36,
     "metadata": {},
     "output_type": "execute_result"
    }
   ],
   "source": [
    "conditions = (places_df['is_cafe'] == 1) & (places_df['is_kopitiam'] == 1)\n",
    "places_df.loc[conditions]"
   ]
  },
  {
   "cell_type": "code",
   "execution_count": 37,
   "metadata": {},
   "outputs": [
    {
     "data": {
      "text/html": [
       "<div>\n",
       "<style scoped>\n",
       "    .dataframe tbody tr th:only-of-type {\n",
       "        vertical-align: middle;\n",
       "    }\n",
       "\n",
       "    .dataframe tbody tr th {\n",
       "        vertical-align: top;\n",
       "    }\n",
       "\n",
       "    .dataframe thead th {\n",
       "        text-align: right;\n",
       "    }\n",
       "</style>\n",
       "<table border=\"1\" class=\"dataframe\">\n",
       "  <thead>\n",
       "    <tr style=\"text-align: right;\">\n",
       "      <th></th>\n",
       "      <th>name</th>\n",
       "      <th>place_id</th>\n",
       "      <th>formatted_address</th>\n",
       "      <th>is_cafe</th>\n",
       "      <th>is_kopitiam</th>\n",
       "    </tr>\n",
       "  </thead>\n",
       "  <tbody>\n",
       "    <tr>\n",
       "      <th>9966</th>\n",
       "      <td>Starbucks Kopitiam City</td>\n",
       "      <td>ChIJ3UHR8T0X2jERdBuJJ2ly4EY</td>\n",
       "      <td>277C Compassvale Link, #01-13 (Shop 2A Kopitia...</td>\n",
       "      <td>1</td>\n",
       "      <td>0</td>\n",
       "    </tr>\n",
       "  </tbody>\n",
       "</table>\n",
       "</div>"
      ],
      "text/plain": [
       "                         name                     place_id  \\\n",
       "9966  Starbucks Kopitiam City  ChIJ3UHR8T0X2jERdBuJJ2ly4EY   \n",
       "\n",
       "                                      formatted_address  is_cafe  is_kopitiam  \n",
       "9966  277C Compassvale Link, #01-13 (Shop 2A Kopitia...        1            0  "
      ]
     },
     "execution_count": 37,
     "metadata": {},
     "output_type": "execute_result"
    }
   ],
   "source": [
    "# starbucks kopitiam location is wrongly classified as both cafe & kopitiam, remove kopitiam label\n",
    "places_df.loc[places_df['place_id'] == 'ChIJ3UHR8T0X2jERdBuJJ2ly4EY', 'is_kopitiam'] = 0\n",
    "places_df.loc[conditions]"
   ]
  },
  {
   "cell_type": "code",
   "execution_count": 38,
   "metadata": {},
   "outputs": [
    {
     "data": {
      "text/html": [
       "<div>\n",
       "<style scoped>\n",
       "    .dataframe tbody tr th:only-of-type {\n",
       "        vertical-align: middle;\n",
       "    }\n",
       "\n",
       "    .dataframe tbody tr th {\n",
       "        vertical-align: top;\n",
       "    }\n",
       "\n",
       "    .dataframe thead th {\n",
       "        text-align: right;\n",
       "    }\n",
       "</style>\n",
       "<table border=\"1\" class=\"dataframe\">\n",
       "  <thead>\n",
       "    <tr style=\"text-align: right;\">\n",
       "      <th></th>\n",
       "      <th>name</th>\n",
       "      <th>place_id</th>\n",
       "      <th>formatted_address</th>\n",
       "      <th>is_cafe</th>\n",
       "      <th>is_kopitiam</th>\n",
       "    </tr>\n",
       "  </thead>\n",
       "  <tbody>\n",
       "    <tr>\n",
       "      <th>9</th>\n",
       "      <td>Happy Hawkers Coffeeshop</td>\n",
       "      <td>ChIJxQb7Ulo92jERes4lOO9WDso</td>\n",
       "      <td>739 Bedok Reservoir Rd, Singapore 470741</td>\n",
       "      <td>0</td>\n",
       "      <td>1</td>\n",
       "    </tr>\n",
       "    <tr>\n",
       "      <th>24</th>\n",
       "      <td>Baker &amp; Cook - Swan Lake</td>\n",
       "      <td>ChIJfYtFcq4i2jERVe8R8VhEmrg</td>\n",
       "      <td>1 Swan Lake Ave, Opera Estate, Singapore 455700</td>\n",
       "      <td>1</td>\n",
       "      <td>0</td>\n",
       "    </tr>\n",
       "    <tr>\n",
       "      <th>29</th>\n",
       "      <td>Kimly Coffeeshop (Chai Chee 29 FoodHouse)</td>\n",
       "      <td>ChIJN2zPCK0i2jERyJsDXfiesho</td>\n",
       "      <td>29B Chai Chee Ave, #01-60, Singapore 462029</td>\n",
       "      <td>0</td>\n",
       "      <td>1</td>\n",
       "    </tr>\n",
       "    <tr>\n",
       "      <th>31</th>\n",
       "      <td>The Coffee Bean &amp; Tea Leaf</td>\n",
       "      <td>ChIJL-rUh7kj2jEReVwjCg1YIW8</td>\n",
       "      <td>311 New Upper Changi Rd, #01-01, Singapore 467360</td>\n",
       "      <td>1</td>\n",
       "      <td>0</td>\n",
       "    </tr>\n",
       "    <tr>\n",
       "      <th>36</th>\n",
       "      <td>Fun Toast</td>\n",
       "      <td>ChIJ840QRIE92jERlGb5nG8QtPE</td>\n",
       "      <td>900 Bedok North Rd, #01-01 HomeTeamNS, Singapo...</td>\n",
       "      <td>0</td>\n",
       "      <td>1</td>\n",
       "    </tr>\n",
       "  </tbody>\n",
       "</table>\n",
       "</div>"
      ],
      "text/plain": [
       "                                         name                     place_id  \\\n",
       "9                    Happy Hawkers Coffeeshop  ChIJxQb7Ulo92jERes4lOO9WDso   \n",
       "24                   Baker & Cook - Swan Lake  ChIJfYtFcq4i2jERVe8R8VhEmrg   \n",
       "29  Kimly Coffeeshop (Chai Chee 29 FoodHouse)  ChIJN2zPCK0i2jERyJsDXfiesho   \n",
       "31                 The Coffee Bean & Tea Leaf  ChIJL-rUh7kj2jEReVwjCg1YIW8   \n",
       "36                                  Fun Toast  ChIJ840QRIE92jERlGb5nG8QtPE   \n",
       "\n",
       "                                    formatted_address  is_cafe  is_kopitiam  \n",
       "9            739 Bedok Reservoir Rd, Singapore 470741        0            1  \n",
       "24    1 Swan Lake Ave, Opera Estate, Singapore 455700        1            0  \n",
       "29        29B Chai Chee Ave, #01-60, Singapore 462029        0            1  \n",
       "31  311 New Upper Changi Rd, #01-01, Singapore 467360        1            0  \n",
       "36  900 Bedok North Rd, #01-01 HomeTeamNS, Singapo...        0            1  "
      ]
     },
     "execution_count": 38,
     "metadata": {},
     "output_type": "execute_result"
    }
   ],
   "source": [
    "places_labelled = places_df.loc[places_df[['is_cafe', 'is_kopitiam']].sum(axis=1) > 0] \n",
    "places_labelled.head()\n"
   ]
  },
  {
   "cell_type": "code",
   "execution_count": 39,
   "metadata": {},
   "outputs": [
    {
     "data": {
      "text/html": [
       "<div>\n",
       "<style scoped>\n",
       "    .dataframe tbody tr th:only-of-type {\n",
       "        vertical-align: middle;\n",
       "    }\n",
       "\n",
       "    .dataframe tbody tr th {\n",
       "        vertical-align: top;\n",
       "    }\n",
       "\n",
       "    .dataframe thead th {\n",
       "        text-align: right;\n",
       "    }\n",
       "</style>\n",
       "<table border=\"1\" class=\"dataframe\">\n",
       "  <thead>\n",
       "    <tr style=\"text-align: right;\">\n",
       "      <th></th>\n",
       "      <th>name</th>\n",
       "      <th>place_id</th>\n",
       "      <th>formatted_address</th>\n",
       "      <th>is_cafe</th>\n",
       "      <th>is_kopitiam</th>\n",
       "    </tr>\n",
       "  </thead>\n",
       "  <tbody>\n",
       "    <tr>\n",
       "      <th>0</th>\n",
       "      <td>Percolate</td>\n",
       "      <td>ChIJV6HD-Eo92jERjhfY7NEDrOM</td>\n",
       "      <td>136 Bedok North Ave 3, #01-152, Singapore 460136</td>\n",
       "      <td>0</td>\n",
       "      <td>0</td>\n",
       "    </tr>\n",
       "    <tr>\n",
       "      <th>1</th>\n",
       "      <td>Generation Coffee Roasters (Bedok)</td>\n",
       "      <td>ChIJhbwWY-I92jERxtB-gF22sL0</td>\n",
       "      <td>216 Bedok North Street 1, #01-32, Singapore 46...</td>\n",
       "      <td>0</td>\n",
       "      <td>0</td>\n",
       "    </tr>\n",
       "    <tr>\n",
       "      <th>2</th>\n",
       "      <td>Refuel Cafe</td>\n",
       "      <td>ChIJcf_SpPk82jERM28p3SYNBnI</td>\n",
       "      <td>744 Bedok Reservoir Rd, #01-3029 Reservoir Vil...</td>\n",
       "      <td>0</td>\n",
       "      <td>0</td>\n",
       "    </tr>\n",
       "    <tr>\n",
       "      <th>3</th>\n",
       "      <td>Marie's Lapis Cafe</td>\n",
       "      <td>ChIJ3Vc6OY092jERhObI1bZ_4Sk</td>\n",
       "      <td>537 Bedok North Street 3, #01-575, Singapore 4...</td>\n",
       "      <td>0</td>\n",
       "      <td>0</td>\n",
       "    </tr>\n",
       "    <tr>\n",
       "      <th>4</th>\n",
       "      <td>COFFEESARANG</td>\n",
       "      <td>ChIJOb_8OAwj2jERPK-QVelr5Vk</td>\n",
       "      <td>311 New Upper Changi Rd #01-78 Bedok Mall, Sin...</td>\n",
       "      <td>0</td>\n",
       "      <td>0</td>\n",
       "    </tr>\n",
       "  </tbody>\n",
       "</table>\n",
       "</div>"
      ],
      "text/plain": [
       "                                 name                     place_id  \\\n",
       "0                           Percolate  ChIJV6HD-Eo92jERjhfY7NEDrOM   \n",
       "1  Generation Coffee Roasters (Bedok)  ChIJhbwWY-I92jERxtB-gF22sL0   \n",
       "2                         Refuel Cafe  ChIJcf_SpPk82jERM28p3SYNBnI   \n",
       "3                  Marie's Lapis Cafe  ChIJ3Vc6OY092jERhObI1bZ_4Sk   \n",
       "4                        COFFEESARANG  ChIJOb_8OAwj2jERPK-QVelr5Vk   \n",
       "\n",
       "                                   formatted_address  is_cafe  is_kopitiam  \n",
       "0   136 Bedok North Ave 3, #01-152, Singapore 460136        0            0  \n",
       "1  216 Bedok North Street 1, #01-32, Singapore 46...        0            0  \n",
       "2  744 Bedok Reservoir Rd, #01-3029 Reservoir Vil...        0            0  \n",
       "3  537 Bedok North Street 3, #01-575, Singapore 4...        0            0  \n",
       "4  311 New Upper Changi Rd #01-78 Bedok Mall, Sin...        0            0  "
      ]
     },
     "execution_count": 39,
     "metadata": {},
     "output_type": "execute_result"
    }
   ],
   "source": [
    "places_unlabelled = places_df.loc[places_df[['is_cafe', 'is_kopitiam']].sum(axis=1) == 0] \n",
    "places_unlabelled.head()"
   ]
  },
  {
   "cell_type": "markdown",
   "metadata": {},
   "source": [
    "## Prepare reviews dataset for text classification"
   ]
  },
  {
   "cell_type": "code",
   "execution_count": 42,
   "metadata": {},
   "outputs": [
    {
     "data": {
      "text/html": [
       "<div>\n",
       "<style scoped>\n",
       "    .dataframe tbody tr th:only-of-type {\n",
       "        vertical-align: middle;\n",
       "    }\n",
       "\n",
       "    .dataframe tbody tr th {\n",
       "        vertical-align: top;\n",
       "    }\n",
       "\n",
       "    .dataframe thead th {\n",
       "        text-align: right;\n",
       "    }\n",
       "</style>\n",
       "<table border=\"1\" class=\"dataframe\">\n",
       "  <thead>\n",
       "    <tr style=\"text-align: right;\">\n",
       "      <th></th>\n",
       "      <th>place_id</th>\n",
       "      <th>text</th>\n",
       "    </tr>\n",
       "  </thead>\n",
       "  <tbody>\n",
       "    <tr>\n",
       "      <th>0</th>\n",
       "      <td>ChIJV6HD-Eo92jERjhfY7NEDrOM</td>\n",
       "      <td>It’s great to find a cafe that serves good cof...</td>\n",
       "    </tr>\n",
       "    <tr>\n",
       "      <th>1</th>\n",
       "      <td>ChIJV6HD-Eo92jERjhfY7NEDrOM</td>\n",
       "      <td>Nice little independent cafe in Bedok. Quite a...</td>\n",
       "    </tr>\n",
       "    <tr>\n",
       "      <th>2</th>\n",
       "      <td>ChIJV6HD-Eo92jERjhfY7NEDrOM</td>\n",
       "      <td>Really blessed this is just around the neighbo...</td>\n",
       "    </tr>\n",
       "    <tr>\n",
       "      <th>3</th>\n",
       "      <td>ChIJV6HD-Eo92jERjhfY7NEDrOM</td>\n",
       "      <td>Crowded on a PH morning and I can see why! Cof...</td>\n",
       "    </tr>\n",
       "    <tr>\n",
       "      <th>4</th>\n",
       "      <td>ChIJV6HD-Eo92jERjhfY7NEDrOM</td>\n",
       "      <td>This place have very delicious garlic cheese c...</td>\n",
       "    </tr>\n",
       "  </tbody>\n",
       "</table>\n",
       "</div>"
      ],
      "text/plain": [
       "                      place_id  \\\n",
       "0  ChIJV6HD-Eo92jERjhfY7NEDrOM   \n",
       "1  ChIJV6HD-Eo92jERjhfY7NEDrOM   \n",
       "2  ChIJV6HD-Eo92jERjhfY7NEDrOM   \n",
       "3  ChIJV6HD-Eo92jERjhfY7NEDrOM   \n",
       "4  ChIJV6HD-Eo92jERjhfY7NEDrOM   \n",
       "\n",
       "                                                text  \n",
       "0  It’s great to find a cafe that serves good cof...  \n",
       "1  Nice little independent cafe in Bedok. Quite a...  \n",
       "2  Really blessed this is just around the neighbo...  \n",
       "3  Crowded on a PH morning and I can see why! Cof...  \n",
       "4  This place have very delicious garlic cheese c...  "
      ]
     },
     "execution_count": 42,
     "metadata": {},
     "output_type": "execute_result"
    }
   ],
   "source": [
    "# load reviews data and drop potentially identifying columns\n",
    "reviews_df = pd.read_csv('data/raw/reviews.csv')[['place_id', 'text']]\n",
    "reviews_df.head()"
   ]
  },
  {
   "cell_type": "code",
   "execution_count": 43,
   "metadata": {},
   "outputs": [
    {
     "data": {
      "text/plain": [
       "21685"
      ]
     },
     "execution_count": 43,
     "metadata": {},
     "output_type": "execute_result"
    }
   ],
   "source": [
    "len(reviews_df)"
   ]
  },
  {
   "cell_type": "code",
   "execution_count": 44,
   "metadata": {},
   "outputs": [
    {
     "data": {
      "text/plain": [
       "4085.0"
      ]
     },
     "execution_count": 44,
     "metadata": {},
     "output_type": "execute_result"
    }
   ],
   "source": [
    "# check character count of longest review\n",
    "reviews_df['char_count'] = reviews_df['text'].str.len()\n",
    "reviews_df['char_count'].max()"
   ]
  },
  {
   "cell_type": "code",
   "execution_count": 45,
   "metadata": {},
   "outputs": [
    {
     "data": {
      "text/html": [
       "<div>\n",
       "<style scoped>\n",
       "    .dataframe tbody tr th:only-of-type {\n",
       "        vertical-align: middle;\n",
       "    }\n",
       "\n",
       "    .dataframe tbody tr th {\n",
       "        vertical-align: top;\n",
       "    }\n",
       "\n",
       "    .dataframe thead th {\n",
       "        text-align: right;\n",
       "    }\n",
       "</style>\n",
       "<table border=\"1\" class=\"dataframe\">\n",
       "  <thead>\n",
       "    <tr style=\"text-align: right;\">\n",
       "      <th></th>\n",
       "      <th>text</th>\n",
       "      <th>label</th>\n",
       "    </tr>\n",
       "  </thead>\n",
       "  <tbody>\n",
       "    <tr>\n",
       "      <th>0</th>\n",
       "      <td>Junyi fortune fish. 吉祥鱼\\nDabao the salted veg ...</td>\n",
       "      <td>0</td>\n",
       "    </tr>\n",
       "    <tr>\n",
       "      <th>1</th>\n",
       "      <td>Five star for Fish So Nice shop selling grille...</td>\n",
       "      <td>0</td>\n",
       "    </tr>\n",
       "    <tr>\n",
       "      <th>2</th>\n",
       "      <td>Mixed Rice stall- i don’t even know how they c...</td>\n",
       "      <td>0</td>\n",
       "    </tr>\n",
       "    <tr>\n",
       "      <th>3</th>\n",
       "      <td>Crazy drink lady charged me $1 for this cup of...</td>\n",
       "      <td>0</td>\n",
       "    </tr>\n",
       "    <tr>\n",
       "      <th>4</th>\n",
       "      <td>Dim sum stall needs improvement.\\nManagement s...</td>\n",
       "      <td>0</td>\n",
       "    </tr>\n",
       "  </tbody>\n",
       "</table>\n",
       "</div>"
      ],
      "text/plain": [
       "                                                text  label\n",
       "0  Junyi fortune fish. 吉祥鱼\\nDabao the salted veg ...      0\n",
       "1  Five star for Fish So Nice shop selling grille...      0\n",
       "2  Mixed Rice stall- i don’t even know how they c...      0\n",
       "3  Crazy drink lady charged me $1 for this cup of...      0\n",
       "4  Dim sum stall needs improvement.\\nManagement s...      0"
      ]
     },
     "execution_count": 45,
     "metadata": {},
     "output_type": "execute_result"
    }
   ],
   "source": [
    "# Join reviews with places\n",
    "reviews_train_df = places_labelled.merge(reviews_df, on='place_id', how='inner')[['text', 'place_id', 'name', 'is_cafe', 'is_kopitiam']]\n",
    "\n",
    "# Convert is_cafe and is_kopitiam to single binary label. 1 for cafe, 0 for kopitiam\n",
    "reviews_train_df['label'] = np.where(reviews_train_df['is_cafe'] == 1, 1, 0)\n",
    "\n",
    "# drop unnecessary columns and missing reviews  \n",
    "reviews_train_df = reviews_train_df.drop(columns={'place_id', 'name', 'is_cafe', 'is_kopitiam'}).dropna()\n",
    "reviews_train_df.head()"
   ]
  },
  {
   "cell_type": "code",
   "execution_count": 46,
   "metadata": {},
   "outputs": [
    {
     "data": {
      "text/plain": [
       "label\n",
       "0    0.705687\n",
       "1    0.294313\n",
       "Name: proportion, dtype: float64"
      ]
     },
     "execution_count": 46,
     "metadata": {},
     "output_type": "execute_result"
    }
   ],
   "source": [
    "reviews_train_df['label'].value_counts(normalize=True)"
   ]
  },
  {
   "cell_type": "markdown",
   "metadata": {},
   "source": [
    "A clean labelled dataset has been prepared to train the text classification model. Due to the slight imbalanced nature of the labels, we should stratify the train test split accordingly "
   ]
  },
  {
   "cell_type": "code",
   "execution_count": 27,
   "metadata": {},
   "outputs": [],
   "source": [
    "# reviews_train_df.to_csv('data/interim/reviews_train.csv', index=False)"
   ]
  }
 ],
 "metadata": {
  "kernelspec": {
   "display_name": "Python 3.10.5 (conda)",
   "language": "python",
   "name": "python3"
  },
  "language_info": {
   "codemirror_mode": {
    "name": "ipython",
    "version": 3
   },
   "file_extension": ".py",
   "mimetype": "text/x-python",
   "name": "python",
   "nbconvert_exporter": "python",
   "pygments_lexer": "ipython3",
   "version": "3.12.3"
  },
  "orig_nbformat": 4,
  "vscode": {
   "interpreter": {
    "hash": "924a3f899200a01de9e5c6a73ff718b95aa1c84f4602a14715cfe536bcfa634e"
   }
  }
 },
 "nbformat": 4,
 "nbformat_minor": 2
}
