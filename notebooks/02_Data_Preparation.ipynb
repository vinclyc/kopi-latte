{
 "cells": [
  {
   "cell_type": "markdown",
   "metadata": {},
   "source": [
    "# The Kopi Latte Ratio Project: Data Preparation"
   ]
  },
  {
   "cell_type": "markdown",
   "metadata": {},
   "source": [
    "The objective of this notebook is to clean up the location & reviews data collected from Google Maps, and prepare a dataset that can be used to train a review text classification model."
   ]
  },
  {
   "cell_type": "markdown",
   "metadata": {},
   "source": [
    "## Load Extracted Data"
   ]
  },
  {
   "cell_type": "code",
   "execution_count": 3,
   "metadata": {},
   "outputs": [],
   "source": [
    "import os\n",
    "os.chdir('..')"
   ]
  },
  {
   "cell_type": "code",
   "execution_count": 4,
   "metadata": {},
   "outputs": [
    {
     "data": {
      "text/html": [
       "<div>\n",
       "<style scoped>\n",
       "    .dataframe tbody tr th:only-of-type {\n",
       "        vertical-align: middle;\n",
       "    }\n",
       "\n",
       "    .dataframe tbody tr th {\n",
       "        vertical-align: top;\n",
       "    }\n",
       "\n",
       "    .dataframe thead th {\n",
       "        text-align: right;\n",
       "    }\n",
       "</style>\n",
       "<table border=\"1\" class=\"dataframe\">\n",
       "  <thead>\n",
       "    <tr style=\"text-align: right;\">\n",
       "      <th></th>\n",
       "      <th>business_status</th>\n",
       "      <th>formatted_address</th>\n",
       "      <th>icon</th>\n",
       "      <th>icon_background_color</th>\n",
       "      <th>icon_mask_base_uri</th>\n",
       "      <th>name</th>\n",
       "      <th>photos</th>\n",
       "      <th>place_id</th>\n",
       "      <th>price_level</th>\n",
       "      <th>rating</th>\n",
       "      <th>...</th>\n",
       "      <th>geometry.location.lat</th>\n",
       "      <th>geometry.location.lng</th>\n",
       "      <th>geometry.viewport.northeast.lat</th>\n",
       "      <th>geometry.viewport.northeast.lng</th>\n",
       "      <th>geometry.viewport.southwest.lat</th>\n",
       "      <th>geometry.viewport.southwest.lng</th>\n",
       "      <th>opening_hours.open_now</th>\n",
       "      <th>plus_code.compound_code</th>\n",
       "      <th>plus_code.global_code</th>\n",
       "      <th>permanently_closed</th>\n",
       "    </tr>\n",
       "  </thead>\n",
       "  <tbody>\n",
       "    <tr>\n",
       "      <th>0</th>\n",
       "      <td>OPERATIONAL</td>\n",
       "      <td>136 Bedok North Ave 3, #01-152, Singapore 460136</td>\n",
       "      <td>https://maps.gstatic.com/mapfiles/place_api/ic...</td>\n",
       "      <td>#FF9E67</td>\n",
       "      <td>https://maps.gstatic.com/mapfiles/place_api/ic...</td>\n",
       "      <td>Percolate</td>\n",
       "      <td>[{'height': 4032, 'html_attributions': ['&lt;a hr...</td>\n",
       "      <td>ChIJV6HD-Eo92jERjhfY7NEDrOM</td>\n",
       "      <td>2.0</td>\n",
       "      <td>4.4</td>\n",
       "      <td>...</td>\n",
       "      <td>1.328262</td>\n",
       "      <td>103.935252</td>\n",
       "      <td>1.329291</td>\n",
       "      <td>103.936559</td>\n",
       "      <td>1.326591</td>\n",
       "      <td>103.933859</td>\n",
       "      <td>True</td>\n",
       "      <td>8WHP+84 Singapore</td>\n",
       "      <td>6PH58WHP+84</td>\n",
       "      <td>NaN</td>\n",
       "    </tr>\n",
       "    <tr>\n",
       "      <th>1</th>\n",
       "      <td>OPERATIONAL</td>\n",
       "      <td>216 Bedok North Street 1, #01-32, Singapore 46...</td>\n",
       "      <td>https://maps.gstatic.com/mapfiles/place_api/ic...</td>\n",
       "      <td>#FF9E67</td>\n",
       "      <td>https://maps.gstatic.com/mapfiles/place_api/ic...</td>\n",
       "      <td>Generation Coffee Roasters (Bedok)</td>\n",
       "      <td>[{'height': 4000, 'html_attributions': ['&lt;a hr...</td>\n",
       "      <td>ChIJhbwWY-I92jERxtB-gF22sL0</td>\n",
       "      <td>NaN</td>\n",
       "      <td>4.6</td>\n",
       "      <td>...</td>\n",
       "      <td>1.327248</td>\n",
       "      <td>103.933039</td>\n",
       "      <td>1.328730</td>\n",
       "      <td>103.934367</td>\n",
       "      <td>1.326030</td>\n",
       "      <td>103.931668</td>\n",
       "      <td>False</td>\n",
       "      <td>8WGM+V6 Singapore</td>\n",
       "      <td>6PH58WGM+V6</td>\n",
       "      <td>NaN</td>\n",
       "    </tr>\n",
       "    <tr>\n",
       "      <th>2</th>\n",
       "      <td>OPERATIONAL</td>\n",
       "      <td>744 Bedok Reservoir Rd, #01-3029 Reservoir Vil...</td>\n",
       "      <td>https://maps.gstatic.com/mapfiles/place_api/ic...</td>\n",
       "      <td>#FF9E67</td>\n",
       "      <td>https://maps.gstatic.com/mapfiles/place_api/ic...</td>\n",
       "      <td>Refuel Cafe</td>\n",
       "      <td>[{'height': 2268, 'html_attributions': ['&lt;a hr...</td>\n",
       "      <td>ChIJcf_SpPk82jERM28p3SYNBnI</td>\n",
       "      <td>2.0</td>\n",
       "      <td>4.2</td>\n",
       "      <td>...</td>\n",
       "      <td>1.337519</td>\n",
       "      <td>103.921323</td>\n",
       "      <td>1.338910</td>\n",
       "      <td>103.922575</td>\n",
       "      <td>1.336211</td>\n",
       "      <td>103.919875</td>\n",
       "      <td>True</td>\n",
       "      <td>8WQC+2G Singapore</td>\n",
       "      <td>6PH58WQC+2G</td>\n",
       "      <td>NaN</td>\n",
       "    </tr>\n",
       "    <tr>\n",
       "      <th>3</th>\n",
       "      <td>OPERATIONAL</td>\n",
       "      <td>537 Bedok North Street 3, #01-575, Singapore 4...</td>\n",
       "      <td>https://maps.gstatic.com/mapfiles/place_api/ic...</td>\n",
       "      <td>#FF9E67</td>\n",
       "      <td>https://maps.gstatic.com/mapfiles/place_api/ic...</td>\n",
       "      <td>Marie's Lapis Cafe</td>\n",
       "      <td>[{'height': 3072, 'html_attributions': ['&lt;a hr...</td>\n",
       "      <td>ChIJ3Vc6OY092jERhObI1bZ_4Sk</td>\n",
       "      <td>NaN</td>\n",
       "      <td>4.7</td>\n",
       "      <td>...</td>\n",
       "      <td>1.331827</td>\n",
       "      <td>103.924498</td>\n",
       "      <td>1.333259</td>\n",
       "      <td>103.925757</td>\n",
       "      <td>1.330559</td>\n",
       "      <td>103.923058</td>\n",
       "      <td>True</td>\n",
       "      <td>8WJF+PQ Singapore</td>\n",
       "      <td>6PH58WJF+PQ</td>\n",
       "      <td>NaN</td>\n",
       "    </tr>\n",
       "    <tr>\n",
       "      <th>4</th>\n",
       "      <td>OPERATIONAL</td>\n",
       "      <td>311 New Upper Changi Rd #01-78 Bedok Mall, Sin...</td>\n",
       "      <td>https://maps.gstatic.com/mapfiles/place_api/ic...</td>\n",
       "      <td>#FF9E67</td>\n",
       "      <td>https://maps.gstatic.com/mapfiles/place_api/ic...</td>\n",
       "      <td>COFFEESARANG</td>\n",
       "      <td>[{'height': 526, 'html_attributions': ['&lt;a hre...</td>\n",
       "      <td>ChIJOb_8OAwj2jERPK-QVelr5Vk</td>\n",
       "      <td>NaN</td>\n",
       "      <td>4.1</td>\n",
       "      <td>...</td>\n",
       "      <td>1.325154</td>\n",
       "      <td>103.929854</td>\n",
       "      <td>1.326789</td>\n",
       "      <td>103.931245</td>\n",
       "      <td>1.324089</td>\n",
       "      <td>103.928545</td>\n",
       "      <td>True</td>\n",
       "      <td>8WGH+3W Singapore</td>\n",
       "      <td>6PH58WGH+3W</td>\n",
       "      <td>NaN</td>\n",
       "    </tr>\n",
       "  </tbody>\n",
       "</table>\n",
       "<p>5 rows × 23 columns</p>\n",
       "</div>"
      ],
      "text/plain": [
       "  business_status                                  formatted_address  \\\n",
       "0     OPERATIONAL   136 Bedok North Ave 3, #01-152, Singapore 460136   \n",
       "1     OPERATIONAL  216 Bedok North Street 1, #01-32, Singapore 46...   \n",
       "2     OPERATIONAL  744 Bedok Reservoir Rd, #01-3029 Reservoir Vil...   \n",
       "3     OPERATIONAL  537 Bedok North Street 3, #01-575, Singapore 4...   \n",
       "4     OPERATIONAL  311 New Upper Changi Rd #01-78 Bedok Mall, Sin...   \n",
       "\n",
       "                                                icon icon_background_color  \\\n",
       "0  https://maps.gstatic.com/mapfiles/place_api/ic...               #FF9E67   \n",
       "1  https://maps.gstatic.com/mapfiles/place_api/ic...               #FF9E67   \n",
       "2  https://maps.gstatic.com/mapfiles/place_api/ic...               #FF9E67   \n",
       "3  https://maps.gstatic.com/mapfiles/place_api/ic...               #FF9E67   \n",
       "4  https://maps.gstatic.com/mapfiles/place_api/ic...               #FF9E67   \n",
       "\n",
       "                                  icon_mask_base_uri  \\\n",
       "0  https://maps.gstatic.com/mapfiles/place_api/ic...   \n",
       "1  https://maps.gstatic.com/mapfiles/place_api/ic...   \n",
       "2  https://maps.gstatic.com/mapfiles/place_api/ic...   \n",
       "3  https://maps.gstatic.com/mapfiles/place_api/ic...   \n",
       "4  https://maps.gstatic.com/mapfiles/place_api/ic...   \n",
       "\n",
       "                                 name  \\\n",
       "0                           Percolate   \n",
       "1  Generation Coffee Roasters (Bedok)   \n",
       "2                         Refuel Cafe   \n",
       "3                  Marie's Lapis Cafe   \n",
       "4                        COFFEESARANG   \n",
       "\n",
       "                                              photos  \\\n",
       "0  [{'height': 4032, 'html_attributions': ['<a hr...   \n",
       "1  [{'height': 4000, 'html_attributions': ['<a hr...   \n",
       "2  [{'height': 2268, 'html_attributions': ['<a hr...   \n",
       "3  [{'height': 3072, 'html_attributions': ['<a hr...   \n",
       "4  [{'height': 526, 'html_attributions': ['<a hre...   \n",
       "\n",
       "                      place_id  price_level  rating  ...  \\\n",
       "0  ChIJV6HD-Eo92jERjhfY7NEDrOM          2.0     4.4  ...   \n",
       "1  ChIJhbwWY-I92jERxtB-gF22sL0          NaN     4.6  ...   \n",
       "2  ChIJcf_SpPk82jERM28p3SYNBnI          2.0     4.2  ...   \n",
       "3  ChIJ3Vc6OY092jERhObI1bZ_4Sk          NaN     4.7  ...   \n",
       "4  ChIJOb_8OAwj2jERPK-QVelr5Vk          NaN     4.1  ...   \n",
       "\n",
       "  geometry.location.lat geometry.location.lng  \\\n",
       "0              1.328262            103.935252   \n",
       "1              1.327248            103.933039   \n",
       "2              1.337519            103.921323   \n",
       "3              1.331827            103.924498   \n",
       "4              1.325154            103.929854   \n",
       "\n",
       "   geometry.viewport.northeast.lat  geometry.viewport.northeast.lng  \\\n",
       "0                         1.329291                       103.936559   \n",
       "1                         1.328730                       103.934367   \n",
       "2                         1.338910                       103.922575   \n",
       "3                         1.333259                       103.925757   \n",
       "4                         1.326789                       103.931245   \n",
       "\n",
       "   geometry.viewport.southwest.lat  geometry.viewport.southwest.lng  \\\n",
       "0                         1.326591                       103.933859   \n",
       "1                         1.326030                       103.931668   \n",
       "2                         1.336211                       103.919875   \n",
       "3                         1.330559                       103.923058   \n",
       "4                         1.324089                       103.928545   \n",
       "\n",
       "   opening_hours.open_now  plus_code.compound_code  plus_code.global_code  \\\n",
       "0                    True        8WHP+84 Singapore            6PH58WHP+84   \n",
       "1                   False        8WGM+V6 Singapore            6PH58WGM+V6   \n",
       "2                    True        8WQC+2G Singapore            6PH58WQC+2G   \n",
       "3                    True        8WJF+PQ Singapore            6PH58WJF+PQ   \n",
       "4                    True        8WGH+3W Singapore            6PH58WGH+3W   \n",
       "\n",
       "  permanently_closed  \n",
       "0                NaN  \n",
       "1                NaN  \n",
       "2                NaN  \n",
       "3                NaN  \n",
       "4                NaN  \n",
       "\n",
       "[5 rows x 23 columns]"
      ]
     },
     "execution_count": 4,
     "metadata": {},
     "output_type": "execute_result"
    }
   ],
   "source": [
    "import pandas as pd\n",
    "\n",
    "places_df = pd.read_csv('data/raw/places.csv', index_col=0)\n",
    "places_df.head()"
   ]
  },
  {
   "cell_type": "markdown",
   "metadata": {},
   "source": [
    "## Data Exploration"
   ]
  },
  {
   "cell_type": "code",
   "execution_count": 101,
   "metadata": {},
   "outputs": [
    {
     "data": {
      "text/plain": [
       "Index(['business_status', 'formatted_address', 'icon', 'icon_background_color',\n",
       "       'icon_mask_base_uri', 'name', 'photos', 'place_id', 'price_level',\n",
       "       'rating', 'reference', 'types', 'user_ratings_total',\n",
       "       'geometry.location.lat', 'geometry.location.lng',\n",
       "       'geometry.viewport.northeast.lat', 'geometry.viewport.northeast.lng',\n",
       "       'geometry.viewport.southwest.lat', 'geometry.viewport.southwest.lng',\n",
       "       'opening_hours.open_now', 'plus_code.compound_code',\n",
       "       'plus_code.global_code', 'permanently_closed'],\n",
       "      dtype='object')"
      ]
     },
     "execution_count": 101,
     "metadata": {},
     "output_type": "execute_result"
    }
   ],
   "source": [
    "places_df.columns"
   ]
  },
  {
   "cell_type": "code",
   "execution_count": 102,
   "metadata": {},
   "outputs": [
    {
     "data": {
      "text/plain": [
       "4884"
      ]
     },
     "execution_count": 102,
     "metadata": {},
     "output_type": "execute_result"
    }
   ],
   "source": [
    "places_df['place_id'].nunique()"
   ]
  },
  {
   "cell_type": "code",
   "execution_count": 103,
   "metadata": {},
   "outputs": [
    {
     "data": {
      "text/plain": [
       "4692"
      ]
     },
     "execution_count": 103,
     "metadata": {},
     "output_type": "execute_result"
    }
   ],
   "source": [
    "reviews_df['place_id'].nunique()"
   ]
  },
  {
   "cell_type": "code",
   "execution_count": 104,
   "metadata": {},
   "outputs": [
    {
     "data": {
      "text/plain": [
       "21685"
      ]
     },
     "execution_count": 104,
     "metadata": {},
     "output_type": "execute_result"
    }
   ],
   "source": [
    "len(reviews_df)"
   ]
  },
  {
   "cell_type": "markdown",
   "metadata": {},
   "source": [
    "With 4884 relevant locations and 21685 reviews pulled from Google Maps, I came up with a system to efficiently classify the locations as a cafe or kopitiam. There will be 3 layers of classification in order to minimise the manual effort required:\n",
    "1. Heuristic classification - Classify the locations based on popular coffee franchises and keywords in names. This requires the least effort and can classify the greatest number of locations accurately. It will also enable\n",
    "2. Review text classification - Train a model to classify the location based on its reviews. This will automate the classification process.\n",
    "3. Manual human classification - For locations that are still ambiguous, I will manually classify them. This requires the most effort and should be limited to a reasonable number of location"
   ]
  },
  {
   "cell_type": "markdown",
   "metadata": {},
   "source": [
    "## Heuristic Classification"
   ]
  },
  {
   "cell_type": "code",
   "execution_count": 105,
   "metadata": {},
   "outputs": [
    {
     "data": {
      "text/plain": [
       "franchise_name\n",
       "Toast Box                        54\n",
       "The Coffee Bean & Tea Leaf       34\n",
       "Ya Kun Kaya Toast                34\n",
       "luckin coffee                    25\n",
       "Kopitiam                         24\n",
       "Kimly Coffeeshop                 24\n",
       "Fun Toast                        19\n",
       "The Coffee Bean and Tea Leaf     14\n",
       "Tiong Bahru Bakery               14\n",
       "Killiney Kopitiam                14\n",
       "S                                13\n",
       "Huggs Coffee                     12\n",
       "Happy Hawkers                    11\n",
       "Kimly Coffeeshop                 10\n",
       "Kopi & Tarts                     10\n",
       "Baker & Cook                      9\n",
       "Han's Cafe                        8\n",
       "Kopitiam Corner                   8\n",
       "Koufu                             8\n",
       "De Tian Coffee House              8\n",
       "Name: count, dtype: int64"
      ]
     },
     "execution_count": 105,
     "metadata": {},
     "output_type": "execute_result"
    }
   ],
   "source": [
    "# many coffee franchise locations are in the format \"<franchise name> - <location>\"\n",
    "# the franchise store names by splitting \n",
    "franchise_names = places_df['name'].str.split('-',expand=True)[0].str.split('(', expand=True)[0].rename('franchise_name')\n",
    "\n",
    "# get top 20 franchise names\n",
    "franchise_names_top = franchise_names.value_counts().head(20)\n",
    "franchise_names_top"
   ]
  },
  {
   "cell_type": "code",
   "execution_count": 106,
   "metadata": {},
   "outputs": [
    {
     "data": {
      "text/plain": [
       "is_cafe  is_kopitiam\n",
       "0        0              4268\n",
       "         1               418\n",
       "1        0               197\n",
       "         1                 1\n",
       "Name: count, dtype: int64"
      ]
     },
     "execution_count": 106,
     "metadata": {},
     "output_type": "execute_result"
    }
   ],
   "source": [
    "import numpy as np\n",
    "\n",
    "# Define list of cafe & kopi franchises and classify locations accordingly\n",
    "cafe_franchises = ['Starbucks', 'The Coffee Bean & Tea Leaf', 'luckin coffee', 'The Coffee Bean and Tea Leaf', 'Tiong Bahru Bakery', 'Huggs Coffee', 'Baker & Cook']\n",
    "kopi_franchises = ['Ya Kun Kaya Toast', 'Toast Box', 'Kopitiam', 'Kimly Coffeeshop', 'Fun Toast', 'Kopi Kiosk', 'S-11', 'Toast Box', 'Killiney Kopitiam', 'Happy Hawkers', 'Kopi & Tarts', 'De Tian Coffee House'] \n",
    "\n",
    "places_df['is_cafe'] = np.where(places_df['name'].str.contains('|'.join(cafe_franchises), regex=True, case=False), 1,0)\n",
    "places_df['is_kopitiam'] = np.where(places_df['name'].str.contains('|'.join(kopi_franchises), regex=True, case=False), 1,0)\n",
    "places_df[['is_cafe', 'is_kopitiam']].value_counts()"
   ]
  },
  {
   "cell_type": "code",
   "execution_count": 107,
   "metadata": {},
   "outputs": [
    {
     "data": {
      "text/html": [
       "<div>\n",
       "<style scoped>\n",
       "    .dataframe tbody tr th:only-of-type {\n",
       "        vertical-align: middle;\n",
       "    }\n",
       "\n",
       "    .dataframe tbody tr th {\n",
       "        vertical-align: top;\n",
       "    }\n",
       "\n",
       "    .dataframe thead th {\n",
       "        text-align: right;\n",
       "    }\n",
       "</style>\n",
       "<table border=\"1\" class=\"dataframe\">\n",
       "  <thead>\n",
       "    <tr style=\"text-align: right;\">\n",
       "      <th></th>\n",
       "      <th>business_status</th>\n",
       "      <th>formatted_address</th>\n",
       "      <th>icon</th>\n",
       "      <th>icon_background_color</th>\n",
       "      <th>icon_mask_base_uri</th>\n",
       "      <th>name</th>\n",
       "      <th>photos</th>\n",
       "      <th>place_id</th>\n",
       "      <th>price_level</th>\n",
       "      <th>rating</th>\n",
       "      <th>...</th>\n",
       "      <th>geometry.viewport.northeast.lat</th>\n",
       "      <th>geometry.viewport.northeast.lng</th>\n",
       "      <th>geometry.viewport.southwest.lat</th>\n",
       "      <th>geometry.viewport.southwest.lng</th>\n",
       "      <th>opening_hours.open_now</th>\n",
       "      <th>plus_code.compound_code</th>\n",
       "      <th>plus_code.global_code</th>\n",
       "      <th>permanently_closed</th>\n",
       "      <th>is_cafe</th>\n",
       "      <th>is_kopitiam</th>\n",
       "    </tr>\n",
       "  </thead>\n",
       "  <tbody>\n",
       "    <tr>\n",
       "      <th>9966</th>\n",
       "      <td>OPERATIONAL</td>\n",
       "      <td>277C Compassvale Link, #01-13 (Shop 2A Kopitia...</td>\n",
       "      <td>https://maps.gstatic.com/mapfiles/place_api/ic...</td>\n",
       "      <td>#FF9E67</td>\n",
       "      <td>https://maps.gstatic.com/mapfiles/place_api/ic...</td>\n",
       "      <td>Starbucks Kopitiam City</td>\n",
       "      <td>[{'height': 706, 'html_attributions': ['&lt;a hre...</td>\n",
       "      <td>ChIJ3UHR8T0X2jERdBuJJ2ly4EY</td>\n",
       "      <td>2.0</td>\n",
       "      <td>3.6</td>\n",
       "      <td>...</td>\n",
       "      <td>1.383738</td>\n",
       "      <td>103.895824</td>\n",
       "      <td>1.381038</td>\n",
       "      <td>103.892632</td>\n",
       "      <td>True</td>\n",
       "      <td>9VJV+X9 Singapore</td>\n",
       "      <td>6PH59VJV+X9</td>\n",
       "      <td>NaN</td>\n",
       "      <td>1</td>\n",
       "      <td>1</td>\n",
       "    </tr>\n",
       "  </tbody>\n",
       "</table>\n",
       "<p>1 rows × 25 columns</p>\n",
       "</div>"
      ],
      "text/plain": [
       "     business_status                                  formatted_address  \\\n",
       "9966     OPERATIONAL  277C Compassvale Link, #01-13 (Shop 2A Kopitia...   \n",
       "\n",
       "                                                   icon icon_background_color  \\\n",
       "9966  https://maps.gstatic.com/mapfiles/place_api/ic...               #FF9E67   \n",
       "\n",
       "                                     icon_mask_base_uri  \\\n",
       "9966  https://maps.gstatic.com/mapfiles/place_api/ic...   \n",
       "\n",
       "                         name  \\\n",
       "9966  Starbucks Kopitiam City   \n",
       "\n",
       "                                                 photos  \\\n",
       "9966  [{'height': 706, 'html_attributions': ['<a hre...   \n",
       "\n",
       "                         place_id  price_level  rating  ...  \\\n",
       "9966  ChIJ3UHR8T0X2jERdBuJJ2ly4EY          2.0     3.6  ...   \n",
       "\n",
       "     geometry.viewport.northeast.lat geometry.viewport.northeast.lng  \\\n",
       "9966                        1.383738                      103.895824   \n",
       "\n",
       "      geometry.viewport.southwest.lat  geometry.viewport.southwest.lng  \\\n",
       "9966                         1.381038                       103.892632   \n",
       "\n",
       "      opening_hours.open_now  plus_code.compound_code  plus_code.global_code  \\\n",
       "9966                    True        9VJV+X9 Singapore            6PH59VJV+X9   \n",
       "\n",
       "      permanently_closed  is_cafe is_kopitiam  \n",
       "9966                 NaN        1           1  \n",
       "\n",
       "[1 rows x 25 columns]"
      ]
     },
     "execution_count": 107,
     "metadata": {},
     "output_type": "execute_result"
    }
   ],
   "source": [
    "# check location that was labelled as both kopitiam & cafe\n",
    "places_df.loc[(places_df['is_cafe'] == 1) & (places_df['is_kopitiam'] == 1)]"
   ]
  },
  {
   "cell_type": "code",
   "execution_count": 108,
   "metadata": {},
   "outputs": [
    {
     "data": {
      "text/plain": [
       "is_cafe  is_kopitiam\n",
       "0        0              4268\n",
       "         1               418\n",
       "1        0               198\n",
       "Name: count, dtype: int64"
      ]
     },
     "execution_count": 108,
     "metadata": {},
     "output_type": "execute_result"
    }
   ],
   "source": [
    "places_df.loc[places_df['place_id'] == 'ChIJ3UHR8T0X2jERdBuJJ2ly4EY', 'is_kopitiam'] = 0\n",
    "places_df[['is_cafe', 'is_kopitiam']].value_counts()"
   ]
  },
  {
   "cell_type": "code",
   "execution_count": 109,
   "metadata": {},
   "outputs": [
    {
     "data": {
      "text/plain": [
       "coffee        709\n",
       "cafe          487\n",
       "@             340\n",
       "&             326\n",
       "the           292\n",
       "-             272\n",
       "house         246\n",
       "food          230\n",
       "kopitiam      186\n",
       "shop          149\n",
       "toast         147\n",
       "coffeeshop    141\n",
       "tea           138\n",
       "eating        125\n",
       "kopi           99\n",
       "centre         92\n",
       "mall           87\n",
       "restaurant     84\n",
       "café           84\n",
       "bar            80\n",
       "Name: count, dtype: int64"
      ]
     },
     "execution_count": 109,
     "metadata": {},
     "output_type": "execute_result"
    }
   ],
   "source": [
    "# Get top 50 words in the place names\n",
    "pd.Series(' '.join(places_df['name']).lower().split()).value_counts()[:20]"
   ]
  },
  {
   "cell_type": "code",
   "execution_count": 110,
   "metadata": {},
   "outputs": [
    {
     "data": {
      "text/plain": [
       "is_cafe  is_kopitiam\n",
       "0        0              4144\n",
       "         1               542\n",
       "1        0               197\n",
       "         1                 1\n",
       "Name: count, dtype: int64"
      ]
     },
     "execution_count": 110,
     "metadata": {},
     "output_type": "execute_result"
    }
   ],
   "source": [
    "# Check number of samples for each label\n",
    "kopi_word_list = ['kopitiam', 'toast', 'kopi']\n",
    "places_df.loc[places_df['name'].str.contains('|'.join(kopi_word_list), regex=True, case=False), 'is_kopitiam'] = 1\n",
    "places_df[['is_cafe', 'is_kopitiam']].value_counts()"
   ]
  },
  {
   "cell_type": "markdown",
   "metadata": {},
   "source": [
    "After classifying the locations based on coffee franchises & keywords, we are able to quickly identify about 500 kopitiams and 200 cafes. This also gives us a good base to create a training dataset for our review text classification model."
   ]
  },
  {
   "cell_type": "code",
   "execution_count": 113,
   "metadata": {},
   "outputs": [
    {
     "data": {
      "text/html": [
       "<div>\n",
       "<style scoped>\n",
       "    .dataframe tbody tr th:only-of-type {\n",
       "        vertical-align: middle;\n",
       "    }\n",
       "\n",
       "    .dataframe tbody tr th {\n",
       "        vertical-align: top;\n",
       "    }\n",
       "\n",
       "    .dataframe thead th {\n",
       "        text-align: right;\n",
       "    }\n",
       "</style>\n",
       "<table border=\"1\" class=\"dataframe\">\n",
       "  <thead>\n",
       "    <tr style=\"text-align: right;\">\n",
       "      <th></th>\n",
       "      <th>business_status</th>\n",
       "      <th>formatted_address</th>\n",
       "      <th>icon</th>\n",
       "      <th>icon_background_color</th>\n",
       "      <th>icon_mask_base_uri</th>\n",
       "      <th>name</th>\n",
       "      <th>photos</th>\n",
       "      <th>place_id</th>\n",
       "      <th>price_level</th>\n",
       "      <th>rating</th>\n",
       "      <th>...</th>\n",
       "      <th>geometry.viewport.northeast.lat</th>\n",
       "      <th>geometry.viewport.northeast.lng</th>\n",
       "      <th>geometry.viewport.southwest.lat</th>\n",
       "      <th>geometry.viewport.southwest.lng</th>\n",
       "      <th>opening_hours.open_now</th>\n",
       "      <th>plus_code.compound_code</th>\n",
       "      <th>plus_code.global_code</th>\n",
       "      <th>permanently_closed</th>\n",
       "      <th>is_cafe</th>\n",
       "      <th>is_kopitiam</th>\n",
       "    </tr>\n",
       "  </thead>\n",
       "  <tbody>\n",
       "    <tr>\n",
       "      <th>9966</th>\n",
       "      <td>OPERATIONAL</td>\n",
       "      <td>277C Compassvale Link, #01-13 (Shop 2A Kopitia...</td>\n",
       "      <td>https://maps.gstatic.com/mapfiles/place_api/ic...</td>\n",
       "      <td>#FF9E67</td>\n",
       "      <td>https://maps.gstatic.com/mapfiles/place_api/ic...</td>\n",
       "      <td>Starbucks Kopitiam City</td>\n",
       "      <td>[{'height': 706, 'html_attributions': ['&lt;a hre...</td>\n",
       "      <td>ChIJ3UHR8T0X2jERdBuJJ2ly4EY</td>\n",
       "      <td>2.0</td>\n",
       "      <td>3.6</td>\n",
       "      <td>...</td>\n",
       "      <td>1.383738</td>\n",
       "      <td>103.895824</td>\n",
       "      <td>1.381038</td>\n",
       "      <td>103.892632</td>\n",
       "      <td>True</td>\n",
       "      <td>9VJV+X9 Singapore</td>\n",
       "      <td>6PH59VJV+X9</td>\n",
       "      <td>NaN</td>\n",
       "      <td>1</td>\n",
       "      <td>1</td>\n",
       "    </tr>\n",
       "  </tbody>\n",
       "</table>\n",
       "<p>1 rows × 25 columns</p>\n",
       "</div>"
      ],
      "text/plain": [
       "     business_status                                  formatted_address  \\\n",
       "9966     OPERATIONAL  277C Compassvale Link, #01-13 (Shop 2A Kopitia...   \n",
       "\n",
       "                                                   icon icon_background_color  \\\n",
       "9966  https://maps.gstatic.com/mapfiles/place_api/ic...               #FF9E67   \n",
       "\n",
       "                                     icon_mask_base_uri  \\\n",
       "9966  https://maps.gstatic.com/mapfiles/place_api/ic...   \n",
       "\n",
       "                         name  \\\n",
       "9966  Starbucks Kopitiam City   \n",
       "\n",
       "                                                 photos  \\\n",
       "9966  [{'height': 706, 'html_attributions': ['<a hre...   \n",
       "\n",
       "                         place_id  price_level  rating  ...  \\\n",
       "9966  ChIJ3UHR8T0X2jERdBuJJ2ly4EY          2.0     3.6  ...   \n",
       "\n",
       "     geometry.viewport.northeast.lat geometry.viewport.northeast.lng  \\\n",
       "9966                        1.383738                      103.895824   \n",
       "\n",
       "      geometry.viewport.southwest.lat  geometry.viewport.southwest.lng  \\\n",
       "9966                         1.381038                       103.892632   \n",
       "\n",
       "      opening_hours.open_now  plus_code.compound_code  plus_code.global_code  \\\n",
       "9966                    True        9VJV+X9 Singapore            6PH59VJV+X9   \n",
       "\n",
       "      permanently_closed  is_cafe is_kopitiam  \n",
       "9966                 NaN        1           1  \n",
       "\n",
       "[1 rows x 25 columns]"
      ]
     },
     "execution_count": 113,
     "metadata": {},
     "output_type": "execute_result"
    }
   ],
   "source": [
    "conditions = (places_df['is_cafe'] == 1) & (places_df['is_kopitiam'] == 1)\n",
    "places_df.loc[conditions]"
   ]
  },
  {
   "cell_type": "code",
   "execution_count": 151,
   "metadata": {},
   "outputs": [
    {
     "data": {
      "text/html": [
       "<div>\n",
       "<style scoped>\n",
       "    .dataframe tbody tr th:only-of-type {\n",
       "        vertical-align: middle;\n",
       "    }\n",
       "\n",
       "    .dataframe tbody tr th {\n",
       "        vertical-align: top;\n",
       "    }\n",
       "\n",
       "    .dataframe thead th {\n",
       "        text-align: right;\n",
       "    }\n",
       "</style>\n",
       "<table border=\"1\" class=\"dataframe\">\n",
       "  <thead>\n",
       "    <tr style=\"text-align: right;\">\n",
       "      <th></th>\n",
       "      <th>business_status</th>\n",
       "      <th>formatted_address</th>\n",
       "      <th>icon</th>\n",
       "      <th>icon_background_color</th>\n",
       "      <th>icon_mask_base_uri</th>\n",
       "      <th>name</th>\n",
       "      <th>photos</th>\n",
       "      <th>place_id</th>\n",
       "      <th>price_level</th>\n",
       "      <th>rating</th>\n",
       "      <th>...</th>\n",
       "      <th>geometry.viewport.northeast.lat</th>\n",
       "      <th>geometry.viewport.northeast.lng</th>\n",
       "      <th>geometry.viewport.southwest.lat</th>\n",
       "      <th>geometry.viewport.southwest.lng</th>\n",
       "      <th>opening_hours.open_now</th>\n",
       "      <th>plus_code.compound_code</th>\n",
       "      <th>plus_code.global_code</th>\n",
       "      <th>permanently_closed</th>\n",
       "      <th>is_cafe</th>\n",
       "      <th>is_kopitiam</th>\n",
       "    </tr>\n",
       "  </thead>\n",
       "  <tbody>\n",
       "    <tr>\n",
       "      <th>9966</th>\n",
       "      <td>OPERATIONAL</td>\n",
       "      <td>277C Compassvale Link, #01-13 (Shop 2A Kopitia...</td>\n",
       "      <td>https://maps.gstatic.com/mapfiles/place_api/ic...</td>\n",
       "      <td>#FF9E67</td>\n",
       "      <td>https://maps.gstatic.com/mapfiles/place_api/ic...</td>\n",
       "      <td>Starbucks Kopitiam City</td>\n",
       "      <td>[{'height': 706, 'html_attributions': ['&lt;a hre...</td>\n",
       "      <td>ChIJ3UHR8T0X2jERdBuJJ2ly4EY</td>\n",
       "      <td>2.0</td>\n",
       "      <td>3.6</td>\n",
       "      <td>...</td>\n",
       "      <td>1.383738</td>\n",
       "      <td>103.895824</td>\n",
       "      <td>1.381038</td>\n",
       "      <td>103.892632</td>\n",
       "      <td>True</td>\n",
       "      <td>9VJV+X9 Singapore</td>\n",
       "      <td>6PH59VJV+X9</td>\n",
       "      <td>NaN</td>\n",
       "      <td>1</td>\n",
       "      <td>0</td>\n",
       "    </tr>\n",
       "  </tbody>\n",
       "</table>\n",
       "<p>1 rows × 25 columns</p>\n",
       "</div>"
      ],
      "text/plain": [
       "     business_status                                  formatted_address  \\\n",
       "9966     OPERATIONAL  277C Compassvale Link, #01-13 (Shop 2A Kopitia...   \n",
       "\n",
       "                                                   icon icon_background_color  \\\n",
       "9966  https://maps.gstatic.com/mapfiles/place_api/ic...               #FF9E67   \n",
       "\n",
       "                                     icon_mask_base_uri  \\\n",
       "9966  https://maps.gstatic.com/mapfiles/place_api/ic...   \n",
       "\n",
       "                         name  \\\n",
       "9966  Starbucks Kopitiam City   \n",
       "\n",
       "                                                 photos  \\\n",
       "9966  [{'height': 706, 'html_attributions': ['<a hre...   \n",
       "\n",
       "                         place_id  price_level  rating  ...  \\\n",
       "9966  ChIJ3UHR8T0X2jERdBuJJ2ly4EY          2.0     3.6  ...   \n",
       "\n",
       "     geometry.viewport.northeast.lat geometry.viewport.northeast.lng  \\\n",
       "9966                        1.383738                      103.895824   \n",
       "\n",
       "      geometry.viewport.southwest.lat  geometry.viewport.southwest.lng  \\\n",
       "9966                         1.381038                       103.892632   \n",
       "\n",
       "      opening_hours.open_now  plus_code.compound_code  plus_code.global_code  \\\n",
       "9966                    True        9VJV+X9 Singapore            6PH59VJV+X9   \n",
       "\n",
       "      permanently_closed  is_cafe is_kopitiam  \n",
       "9966                 NaN        1           0  \n",
       "\n",
       "[1 rows x 25 columns]"
      ]
     },
     "execution_count": 151,
     "metadata": {},
     "output_type": "execute_result"
    }
   ],
   "source": [
    "# starbucks kopitiam location is wrongly classified as both cafe & kopitiam, remove kopitiam label\n",
    "places_df.loc[places_df['place_id'] == 'ChIJ3UHR8T0X2jERdBuJJ2ly4EY', 'is_kopitiam'] = 0\n",
    "places_df.loc[conditions]"
   ]
  },
  {
   "cell_type": "code",
   "execution_count": 164,
   "metadata": {},
   "outputs": [],
   "source": [
    "places_labelled = places_df.loc[places_df[['is_cafe', 'is_kopitiam']].sum(axis=1) > 0] \n",
    "places_labelled.head()\n",
    "# places_labelled.to_csv('data/interim/places_labelled.csv', index=False)"
   ]
  },
  {
   "cell_type": "code",
   "execution_count": 163,
   "metadata": {},
   "outputs": [],
   "source": [
    "places_unlabelled = places_df.loc[places_df[['is_cafe', 'is_kopitiam']].sum(axis=1) == 0] \n",
    "places_unlabelled.head()\n",
    "# places_unlabelled.to_csv('data/interim/places_unlabelled.csv', index=False)"
   ]
  },
  {
   "cell_type": "markdown",
   "metadata": {},
   "source": [
    "## Prepare reviews dataset for text classification"
   ]
  },
  {
   "cell_type": "code",
   "execution_count": 5,
   "metadata": {},
   "outputs": [
    {
     "data": {
      "text/html": [
       "<div>\n",
       "<style scoped>\n",
       "    .dataframe tbody tr th:only-of-type {\n",
       "        vertical-align: middle;\n",
       "    }\n",
       "\n",
       "    .dataframe tbody tr th {\n",
       "        vertical-align: top;\n",
       "    }\n",
       "\n",
       "    .dataframe thead th {\n",
       "        text-align: right;\n",
       "    }\n",
       "</style>\n",
       "<table border=\"1\" class=\"dataframe\">\n",
       "  <thead>\n",
       "    <tr style=\"text-align: right;\">\n",
       "      <th></th>\n",
       "      <th>language</th>\n",
       "      <th>original_language</th>\n",
       "      <th>profile_photo_url</th>\n",
       "      <th>rating</th>\n",
       "      <th>relative_time_description</th>\n",
       "      <th>text</th>\n",
       "      <th>time</th>\n",
       "      <th>translated</th>\n",
       "      <th>place_id</th>\n",
       "    </tr>\n",
       "  </thead>\n",
       "  <tbody>\n",
       "    <tr>\n",
       "      <th>0</th>\n",
       "      <td>en</td>\n",
       "      <td>en</td>\n",
       "      <td>https://lh3.googleusercontent.com/a/ACg8ocK9Ir...</td>\n",
       "      <td>5</td>\n",
       "      <td>2 months ago</td>\n",
       "      <td>It’s great to find a cafe that serves good cof...</td>\n",
       "      <td>1716184446</td>\n",
       "      <td>False</td>\n",
       "      <td>ChIJV6HD-Eo92jERjhfY7NEDrOM</td>\n",
       "    </tr>\n",
       "    <tr>\n",
       "      <th>1</th>\n",
       "      <td>en</td>\n",
       "      <td>en</td>\n",
       "      <td>https://lh3.googleusercontent.com/a-/ALV-UjUNd...</td>\n",
       "      <td>5</td>\n",
       "      <td>2 months ago</td>\n",
       "      <td>Nice little independent cafe in Bedok. Quite a...</td>\n",
       "      <td>1715937637</td>\n",
       "      <td>False</td>\n",
       "      <td>ChIJV6HD-Eo92jERjhfY7NEDrOM</td>\n",
       "    </tr>\n",
       "    <tr>\n",
       "      <th>2</th>\n",
       "      <td>en</td>\n",
       "      <td>en</td>\n",
       "      <td>https://lh3.googleusercontent.com/a-/ALV-UjWrw...</td>\n",
       "      <td>5</td>\n",
       "      <td>a month ago</td>\n",
       "      <td>Really blessed this is just around the neighbo...</td>\n",
       "      <td>1717770283</td>\n",
       "      <td>False</td>\n",
       "      <td>ChIJV6HD-Eo92jERjhfY7NEDrOM</td>\n",
       "    </tr>\n",
       "    <tr>\n",
       "      <th>3</th>\n",
       "      <td>en</td>\n",
       "      <td>en</td>\n",
       "      <td>https://lh3.googleusercontent.com/a/ACg8ocKJ2N...</td>\n",
       "      <td>5</td>\n",
       "      <td>2 months ago</td>\n",
       "      <td>Crowded on a PH morning and I can see why! Cof...</td>\n",
       "      <td>1716353007</td>\n",
       "      <td>False</td>\n",
       "      <td>ChIJV6HD-Eo92jERjhfY7NEDrOM</td>\n",
       "    </tr>\n",
       "    <tr>\n",
       "      <th>4</th>\n",
       "      <td>en</td>\n",
       "      <td>en</td>\n",
       "      <td>https://lh3.googleusercontent.com/a-/ALV-UjUBh...</td>\n",
       "      <td>5</td>\n",
       "      <td>2 months ago</td>\n",
       "      <td>This place have very delicious garlic cheese c...</td>\n",
       "      <td>1715824235</td>\n",
       "      <td>False</td>\n",
       "      <td>ChIJV6HD-Eo92jERjhfY7NEDrOM</td>\n",
       "    </tr>\n",
       "  </tbody>\n",
       "</table>\n",
       "</div>"
      ],
      "text/plain": [
       "  language original_language  \\\n",
       "0       en                en   \n",
       "1       en                en   \n",
       "2       en                en   \n",
       "3       en                en   \n",
       "4       en                en   \n",
       "\n",
       "                                   profile_photo_url  rating  \\\n",
       "0  https://lh3.googleusercontent.com/a/ACg8ocK9Ir...       5   \n",
       "1  https://lh3.googleusercontent.com/a-/ALV-UjUNd...       5   \n",
       "2  https://lh3.googleusercontent.com/a-/ALV-UjWrw...       5   \n",
       "3  https://lh3.googleusercontent.com/a/ACg8ocKJ2N...       5   \n",
       "4  https://lh3.googleusercontent.com/a-/ALV-UjUBh...       5   \n",
       "\n",
       "  relative_time_description  \\\n",
       "0              2 months ago   \n",
       "1              2 months ago   \n",
       "2               a month ago   \n",
       "3              2 months ago   \n",
       "4              2 months ago   \n",
       "\n",
       "                                                text        time  translated  \\\n",
       "0  It’s great to find a cafe that serves good cof...  1716184446       False   \n",
       "1  Nice little independent cafe in Bedok. Quite a...  1715937637       False   \n",
       "2  Really blessed this is just around the neighbo...  1717770283       False   \n",
       "3  Crowded on a PH morning and I can see why! Cof...  1716353007       False   \n",
       "4  This place have very delicious garlic cheese c...  1715824235       False   \n",
       "\n",
       "                      place_id  \n",
       "0  ChIJV6HD-Eo92jERjhfY7NEDrOM  \n",
       "1  ChIJV6HD-Eo92jERjhfY7NEDrOM  \n",
       "2  ChIJV6HD-Eo92jERjhfY7NEDrOM  \n",
       "3  ChIJV6HD-Eo92jERjhfY7NEDrOM  \n",
       "4  ChIJV6HD-Eo92jERjhfY7NEDrOM  "
      ]
     },
     "execution_count": 5,
     "metadata": {},
     "output_type": "execute_result"
    }
   ],
   "source": [
    "# load reviews data and drop potentially identifying columns\n",
    "reviews_df = pd.read_csv('data/raw/reviews.csv')\n",
    "reviews_df = reviews_df.drop(columns={'author_name', 'author_url'})\n",
    "reviews_df.head()"
   ]
  },
  {
   "cell_type": "code",
   "execution_count": 7,
   "metadata": {},
   "outputs": [
    {
     "data": {
      "text/plain": [
       "21685"
      ]
     },
     "execution_count": 7,
     "metadata": {},
     "output_type": "execute_result"
    }
   ],
   "source": [
    "len(reviews_df)"
   ]
  },
  {
   "cell_type": "code",
   "execution_count": 155,
   "metadata": {},
   "outputs": [
    {
     "data": {
      "text/plain": [
       "4085.0"
      ]
     },
     "execution_count": 155,
     "metadata": {},
     "output_type": "execute_result"
    }
   ],
   "source": [
    "# check character count of longest review\n",
    "reviews_df['char_count'] = reviews_df['text'].str.len()\n",
    "reviews_df['char_count'].max()"
   ]
  },
  {
   "cell_type": "code",
   "execution_count": 171,
   "metadata": {},
   "outputs": [
    {
     "data": {
      "text/html": [
       "<div>\n",
       "<style scoped>\n",
       "    .dataframe tbody tr th:only-of-type {\n",
       "        vertical-align: middle;\n",
       "    }\n",
       "\n",
       "    .dataframe tbody tr th {\n",
       "        vertical-align: top;\n",
       "    }\n",
       "\n",
       "    .dataframe thead th {\n",
       "        text-align: right;\n",
       "    }\n",
       "</style>\n",
       "<table border=\"1\" class=\"dataframe\">\n",
       "  <thead>\n",
       "    <tr style=\"text-align: right;\">\n",
       "      <th></th>\n",
       "      <th>text</th>\n",
       "      <th>label</th>\n",
       "    </tr>\n",
       "  </thead>\n",
       "  <tbody>\n",
       "    <tr>\n",
       "      <th>0</th>\n",
       "      <td>Junyi fortune fish. 吉祥鱼\\nDabao the salted veg ...</td>\n",
       "      <td>0</td>\n",
       "    </tr>\n",
       "    <tr>\n",
       "      <th>1</th>\n",
       "      <td>Five star for Fish So Nice shop selling grille...</td>\n",
       "      <td>0</td>\n",
       "    </tr>\n",
       "    <tr>\n",
       "      <th>2</th>\n",
       "      <td>Mixed Rice stall- i don’t even know how they c...</td>\n",
       "      <td>0</td>\n",
       "    </tr>\n",
       "    <tr>\n",
       "      <th>3</th>\n",
       "      <td>Crazy drink lady charged me $1 for this cup of...</td>\n",
       "      <td>0</td>\n",
       "    </tr>\n",
       "    <tr>\n",
       "      <th>4</th>\n",
       "      <td>Dim sum stall needs improvement.\\nManagement s...</td>\n",
       "      <td>0</td>\n",
       "    </tr>\n",
       "  </tbody>\n",
       "</table>\n",
       "</div>"
      ],
      "text/plain": [
       "                                                text  label\n",
       "0  Junyi fortune fish. 吉祥鱼\\nDabao the salted veg ...      0\n",
       "1  Five star for Fish So Nice shop selling grille...      0\n",
       "2  Mixed Rice stall- i don’t even know how they c...      0\n",
       "3  Crazy drink lady charged me $1 for this cup of...      0\n",
       "4  Dim sum stall needs improvement.\\nManagement s...      0"
      ]
     },
     "execution_count": 171,
     "metadata": {},
     "output_type": "execute_result"
    }
   ],
   "source": [
    "# Join reviews with places\n",
    "reviews_train_df = places_labelled.merge(reviews_df, on='place_id', how='inner')[['text', 'place_id', 'name', 'is_cafe', 'is_kopitiam']]\n",
    "\n",
    "# Convert is_cafe and is_kopitiam to single binary label. 1 for cafe, 0 for kopitiam\n",
    "reviews_train_df['label'] = np.where(reviews_train_df['is_cafe'] == 1, 1, 0)\n",
    "\n",
    "# drop unnecessary columns and missing reviews  \n",
    "reviews_train_df = reviews_train_df.drop(columns={'place_id', 'name', 'is_cafe', 'is_kopitiam'}).dropna()\n",
    "reviews_train_df.head()"
   ]
  },
  {
   "cell_type": "code",
   "execution_count": 172,
   "metadata": {},
   "outputs": [
    {
     "data": {
      "text/plain": [
       "label\n",
       "0    0.705687\n",
       "1    0.294313\n",
       "Name: proportion, dtype: float64"
      ]
     },
     "execution_count": 172,
     "metadata": {},
     "output_type": "execute_result"
    }
   ],
   "source": [
    "reviews_train_df['label'].value_counts(normalize=True)"
   ]
  },
  {
   "cell_type": "markdown",
   "metadata": {},
   "source": [
    "A clean labelled dataset has been prepared to train the text classification model. Due to the slight imbalanced nature of the labels, care will need to be taken to stratify the train test split accordingly "
   ]
  },
  {
   "cell_type": "code",
   "execution_count": 174,
   "metadata": {},
   "outputs": [],
   "source": [
    "# reviews_train_df.to_csv('data/interim/reviews_train.csv', index=False)"
   ]
  }
 ],
 "metadata": {
  "kernelspec": {
   "display_name": "Python 3.10.5 (conda)",
   "language": "python",
   "name": "python3"
  },
  "language_info": {
   "codemirror_mode": {
    "name": "ipython",
    "version": 3
   },
   "file_extension": ".py",
   "mimetype": "text/x-python",
   "name": "python",
   "nbconvert_exporter": "python",
   "pygments_lexer": "ipython3",
   "version": "3.12.3"
  },
  "orig_nbformat": 4,
  "vscode": {
   "interpreter": {
    "hash": "924a3f899200a01de9e5c6a73ff718b95aa1c84f4602a14715cfe536bcfa634e"
   }
  }
 },
 "nbformat": 4,
 "nbformat_minor": 2
}
